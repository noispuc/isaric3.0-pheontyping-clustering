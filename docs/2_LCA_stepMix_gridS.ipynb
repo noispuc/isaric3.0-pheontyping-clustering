{
 "cells": [
  {
   "cell_type": "code",
   "execution_count": 46,
   "id": "64bc14ab-3f3c-4c95-ac75-3fd6bb2450ce",
   "metadata": {},
   "outputs": [],
   "source": [
    "import pandas as pd\n",
    "import numpy as np\n",
    "from sklearn.model_selection import GridSearchCV, ParameterGrid\n"
   ]
  },
  {
   "cell_type": "code",
   "execution_count": null,
   "id": "595db418-1f70-4f6f-b6c8-8740289241d3",
   "metadata": {},
   "outputs": [],
   "source": [
    "varList=['FEBRE', 'MIALGIA', 'CEFALEIA','EXANTEMA', 'VOMITO','NAUSEA','DOR_COSTAS','CONJUNTVIT','ARTRITE',\n",
    "'ARTRALGIA','PETEQUIA_N','LEUCOPENIA','LACO','DOR_RETRO','DIABETES','HEMATOLOG','HEPATOPAT','RENAL',\n",
    "          'HIPERTENSA','ACIDO_PEPT','AUTO_IMUNE']"
   ]
  },
  {
   "cell_type": "code",
   "execution_count": null,
   "id": "12bd5b1d-03ca-4990-8f8e-503c3087fe3d",
   "metadata": {},
   "outputs": [],
   "source": [
    "df=pd.read_parquet('./data/data_SinanDengue_2019_treated_part.parquet')"
   ]
  },
  {
   "cell_type": "code",
   "execution_count": 25,
   "id": "2b47ec40-139c-47c6-84ab-8e2ca6c36f29",
   "metadata": {},
   "outputs": [],
   "source": [
    "df3=df.dropna()"
   ]
  },
  {
   "cell_type": "code",
   "execution_count": 26,
   "id": "342bb202-c514-41a9-8b59-2a05231ec08c",
   "metadata": {},
   "outputs": [
    {
     "data": {
      "text/plain": [
       "(1392884, 16)"
      ]
     },
     "execution_count": 26,
     "metadata": {},
     "output_type": "execute_result"
    }
   ],
   "source": [
    "df3.shape"
   ]
  },
  {
   "cell_type": "code",
   "execution_count": null,
   "id": "f2dec7a1-2aa5-438b-872b-cfa680e138af",
   "metadata": {},
   "outputs": [
    {
     "name": "stdout",
     "output_type": "stream",
     "text": [
      "Fitting StepMix...\n"
     ]
    },
    {
     "name": "stderr",
     "output_type": "stream",
     "text": [
      "Initializations (n_init) : 100%|█| 1/1 [01:35<00:00, 95.30s/it, max_LL=-5.77e+6,\n"
     ]
    },
    {
     "name": "stdout",
     "output_type": "stream",
     "text": [
      "Fitting StepMix...\n"
     ]
    },
    {
     "name": "stderr",
     "output_type": "stream",
     "text": [
      "Initializations (n_init) : 100%|█| 1/1 [01:21<00:00, 81.01s/it, max_LL=-5.79e+6,\n"
     ]
    },
    {
     "name": "stdout",
     "output_type": "stream",
     "text": [
      "Fitting StepMix...\n"
     ]
    },
    {
     "name": "stderr",
     "output_type": "stream",
     "text": [
      "Initializations (n_init) : 100%|█| 1/1 [01:25<00:00, 85.49s/it, max_LL=-5.59e+6,\n"
     ]
    },
    {
     "name": "stdout",
     "output_type": "stream",
     "text": [
      "Fitting StepMix...\n"
     ]
    },
    {
     "name": "stderr",
     "output_type": "stream",
     "text": [
      "Initializations (n_init) : 100%|█| 1/1 [01:22<00:00, 82.45s/it, max_LL=-5.61e+6,\n"
     ]
    },
    {
     "name": "stdout",
     "output_type": "stream",
     "text": [
      "Fitting StepMix...\n"
     ]
    },
    {
     "name": "stderr",
     "output_type": "stream",
     "text": [
      "Initializations (n_init) : 100%|█| 1/1 [00:04<00:00,  4.47s/it, max_LL=-5.77e+6,\n"
     ]
    },
    {
     "name": "stdout",
     "output_type": "stream",
     "text": [
      "Fitting StepMix...\n"
     ]
    },
    {
     "name": "stderr",
     "output_type": "stream",
     "text": [
      "Initializations (n_init) : 100%|█| 1/1 [01:10<00:00, 70.70s/it, max_LL=-5.61e+6,\n"
     ]
    },
    {
     "name": "stdout",
     "output_type": "stream",
     "text": [
      "Fitting StepMix...\n"
     ]
    },
    {
     "name": "stderr",
     "output_type": "stream",
     "text": [
      "Initializations (n_init) : 100%|█| 1/1 [00:04<00:00,  4.02s/it, max_LL=-5.79e+6,\n"
     ]
    },
    {
     "name": "stdout",
     "output_type": "stream",
     "text": [
      "Fitting StepMix...\n"
     ]
    },
    {
     "name": "stderr",
     "output_type": "stream",
     "text": [
      "Initializations (n_init) : 100%|█| 1/1 [01:11<00:00, 71.19s/it, max_LL=-5.39e+6,\n"
     ]
    },
    {
     "name": "stdout",
     "output_type": "stream",
     "text": [
      "Fitting StepMix...\n"
     ]
    },
    {
     "name": "stderr",
     "output_type": "stream",
     "text": [
      "Initializations (n_init) : 100%|█| 1/1 [00:04<00:00,  4.19s/it, max_LL=-5.59e+6,\n"
     ]
    },
    {
     "name": "stdout",
     "output_type": "stream",
     "text": [
      "Fitting StepMix...\n"
     ]
    },
    {
     "name": "stderr",
     "output_type": "stream",
     "text": [
      "Initializations (n_init) : 100%|█| 1/1 [01:23<00:00, 83.85s/it, max_LL=-5.61e+6,\n"
     ]
    },
    {
     "name": "stdout",
     "output_type": "stream",
     "text": [
      "Fitting StepMix...\n"
     ]
    },
    {
     "name": "stderr",
     "output_type": "stream",
     "text": [
      "Initializations (n_init) : 100%|█| 1/1 [01:11<00:00, 71.00s/it, max_LL=-5.61e+6,\n"
     ]
    },
    {
     "name": "stdout",
     "output_type": "stream",
     "text": [
      "Fitting StepMix...\n"
     ]
    },
    {
     "name": "stderr",
     "output_type": "stream",
     "text": [
      "Initializations (n_init) : 100%|█| 1/1 [01:11<00:00, 71.39s/it, max_LL=-5.39e+6,\n"
     ]
    },
    {
     "name": "stdout",
     "output_type": "stream",
     "text": [
      "Fitting StepMix...\n"
     ]
    },
    {
     "name": "stderr",
     "output_type": "stream",
     "text": [
      "Initializations (n_init) : 100%|█| 1/1 [05:40<00:00, 340.38s/it, max_LL=-5.7e+6,\n"
     ]
    },
    {
     "name": "stdout",
     "output_type": "stream",
     "text": [
      "Fitting StepMix...\n"
     ]
    },
    {
     "name": "stderr",
     "output_type": "stream",
     "text": [
      "Initializations (n_init) : 100%|█| 1/1 [06:25<00:00, 385.48s/it, max_LL=-5.72e+6\n"
     ]
    },
    {
     "name": "stdout",
     "output_type": "stream",
     "text": [
      "Fitting StepMix...\n"
     ]
    },
    {
     "name": "stderr",
     "output_type": "stream",
     "text": [
      "Initializations (n_init) : 100%|█| 1/1 [09:27<00:00, 567.81s/it, max_LL=-5.51e+6\n",
      "/home/tomoe/anaconda3/envs/2507DenguePy/lib/python3.13/site-packages/stepmix/stepmix.py:968: ConvergenceWarning: Initializations did not converge. Try different init parameters, or increase max_iter, abs_tol, rel_tol or check for degenerate data.\n",
      "  warnings.warn(\n"
     ]
    },
    {
     "name": "stdout",
     "output_type": "stream",
     "text": [
      "Fitting StepMix...\n"
     ]
    },
    {
     "name": "stderr",
     "output_type": "stream",
     "text": [
      "Initializations (n_init) : 100%|█| 1/1 [05:56<00:00, 356.27s/it, max_LL=-5.54e+6\n"
     ]
    },
    {
     "name": "stdout",
     "output_type": "stream",
     "text": [
      "Fitting StepMix...\n"
     ]
    },
    {
     "name": "stderr",
     "output_type": "stream",
     "text": [
      "Initializations (n_init) : 100%|█| 1/1 [00:09<00:00,  9.51s/it, max_LL=-5.7e+6, \n"
     ]
    },
    {
     "name": "stdout",
     "output_type": "stream",
     "text": [
      "Fitting StepMix...\n"
     ]
    },
    {
     "name": "stderr",
     "output_type": "stream",
     "text": [
      "Initializations (n_init) : 100%|█| 1/1 [05:02<00:00, 302.62s/it, max_LL=-5.54e+6\n"
     ]
    },
    {
     "name": "stdout",
     "output_type": "stream",
     "text": [
      "Fitting StepMix...\n"
     ]
    },
    {
     "name": "stderr",
     "output_type": "stream",
     "text": [
      "Initializations (n_init) : 100%|█| 1/1 [00:10<00:00, 10.03s/it, max_LL=-5.72e+6,\n"
     ]
    },
    {
     "name": "stdout",
     "output_type": "stream",
     "text": [
      "Fitting StepMix...\n"
     ]
    },
    {
     "name": "stderr",
     "output_type": "stream",
     "text": [
      "Initializations (n_init) : 100%|█| 1/1 [08:07<00:00, 487.13s/it, max_LL=-5.32e+6\n",
      "/home/tomoe/anaconda3/envs/2507DenguePy/lib/python3.13/site-packages/stepmix/stepmix.py:968: ConvergenceWarning: Initializations did not converge. Try different init parameters, or increase max_iter, abs_tol, rel_tol or check for degenerate data.\n",
      "  warnings.warn(\n"
     ]
    },
    {
     "name": "stdout",
     "output_type": "stream",
     "text": [
      "Fitting StepMix...\n"
     ]
    },
    {
     "name": "stderr",
     "output_type": "stream",
     "text": [
      "Initializations (n_init) : 100%|█| 1/1 [00:10<00:00, 10.07s/it, max_LL=-5.51e+6,\n"
     ]
    },
    {
     "name": "stdout",
     "output_type": "stream",
     "text": [
      "Fitting StepMix...\n"
     ]
    },
    {
     "name": "stderr",
     "output_type": "stream",
     "text": [
      "Initializations (n_init) : 100%|█| 1/1 [05:56<00:00, 356.03s/it, max_LL=-5.54e+6\n"
     ]
    },
    {
     "name": "stdout",
     "output_type": "stream",
     "text": [
      "Fitting StepMix...\n"
     ]
    },
    {
     "name": "stderr",
     "output_type": "stream",
     "text": [
      "Initializations (n_init) : 100%|█| 1/1 [05:08<00:00, 308.05s/it, max_LL=-5.54e+6\n"
     ]
    },
    {
     "name": "stdout",
     "output_type": "stream",
     "text": [
      "Fitting StepMix...\n"
     ]
    },
    {
     "name": "stderr",
     "output_type": "stream",
     "text": [
      "Initializations (n_init) : 100%|█| 1/1 [08:31<00:00, 511.34s/it, max_LL=-5.32e+6\n",
      "/home/tomoe/anaconda3/envs/2507DenguePy/lib/python3.13/site-packages/stepmix/stepmix.py:968: ConvergenceWarning: Initializations did not converge. Try different init parameters, or increase max_iter, abs_tol, rel_tol or check for degenerate data.\n",
      "  warnings.warn(\n"
     ]
    },
    {
     "name": "stdout",
     "output_type": "stream",
     "text": [
      "Fitting StepMix...\n"
     ]
    },
    {
     "name": "stderr",
     "output_type": "stream",
     "text": [
      "Initializations (n_init) : 100%|█| 1/1 [12:35<00:00, 755.03s/it, max_LL=-5.68e+6\n",
      "/home/tomoe/anaconda3/envs/2507DenguePy/lib/python3.13/site-packages/stepmix/stepmix.py:968: ConvergenceWarning: Initializations did not converge. Try different init parameters, or increase max_iter, abs_tol, rel_tol or check for degenerate data.\n",
      "  warnings.warn(\n"
     ]
    },
    {
     "name": "stdout",
     "output_type": "stream",
     "text": [
      "Fitting StepMix...\n"
     ]
    },
    {
     "name": "stderr",
     "output_type": "stream",
     "text": [
      "Initializations (n_init) :   0%|                          | 0/1 [00:00<?, ?it/s]"
     ]
    }
   ],
   "source": [
    "# Define base model\n",
    "model = StepMix(n_components=3, n_steps=1, measurement='bernoulli',\n",
    "                structural='bernoulli', random_state=123)\n",
    "\n",
    "# Scikit-Learn grid search object. testing different n_components; 1-step, 2-step and 3-step.\n",
    "# 3 validation folds.\n",
    "grid = {\n",
    "    'n_components': [3,6,9,12,15,18,21,24,27,30],\n",
    "    'n_steps' : [1, 2, 3]\n",
    "}\n",
    "gs = GridSearchCV(estimator=model, cv=3, param_grid=grid)\n",
    "gs.fit(df3.loc[:,varList], df3.loc[:,'HOSPITALIZ'])"
   ]
  },
  {
   "cell_type": "code",
   "execution_count": null,
   "id": "b93cbdf0-f3ad-41ff-8714-1ee9cba37288",
   "metadata": {},
   "outputs": [],
   "source": [
    "# Extract results\n",
    "# The mean_test_score will correspond to validation log likelihood, i.e.,\n",
    "# the log likelihood on held out samples that were not used for fitting\n",
    "# a particular fold\n",
    "results = pd.DataFrame(gs.cv_results_)\n",
    "results[\"Val. Log Likelihood\"] = results['mean_test_score']"
   ]
  },
  {
   "cell_type": "code",
   "execution_count": null,
   "id": "a6514a21-2086-4332-b97a-9ebcb0f1653e",
   "metadata": {},
   "outputs": [],
   "source": [
    "import seaborn as sns\n",
    "sns.set_style(\"darkgrid\")\n",
    "optPlot=sns.lineplot(data=results, x='param_n_components', y='Val. Log Likelihood',\n",
    "             hue='param_n_steps', palette='Dark2')\n",
    "fig = optPlot.get_figure()\n",
    "fig.savefig(\"./res/stepMix_gs/grid_search.png\") "
   ]
  },
  {
   "cell_type": "code",
   "execution_count": null,
   "id": "74005899-15a9-48a7-afdf-e892b33ef959",
   "metadata": {},
   "outputs": [],
   "source": [
    "import pickle\n",
    "with open('./res/stepMix_gs/gs.pkl', 'wb') as file:\n",
    "    pickle.dump(gs, file)"
   ]
  },
  {
   "cell_type": "code",
   "execution_count": null,
   "id": "36b95a9d-d694-4926-a01f-9f61e13b8fb5",
   "metadata": {},
   "outputs": [],
   "source": []
  }
 ],
 "metadata": {
  "kernelspec": {
   "display_name": "Python [conda env:2507DenguePy]",
   "language": "python",
   "name": "conda-env-2507DenguePy-py"
  },
  "language_info": {
   "codemirror_mode": {
    "name": "ipython",
    "version": 3
   },
   "file_extension": ".py",
   "mimetype": "text/x-python",
   "name": "python",
   "nbconvert_exporter": "python",
   "pygments_lexer": "ipython3",
   "version": "3.13.2"
  }
 },
 "nbformat": 4,
 "nbformat_minor": 5
}
