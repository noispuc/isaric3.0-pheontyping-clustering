{
 "cells": [
  {
   "cell_type": "code",
   "execution_count": 6,
   "id": "b5bd9cf0-5af9-4a11-a41b-bcf23ecb2e67",
   "metadata": {},
   "outputs": [],
   "source": [
    "import pandas as pd\n",
    "import numpy as np\n",
    "from sklearn.model_selection import GridSearchCV, ParameterGrid\n",
    "from stepmix.stepmix import StepMix\n",
    "from stepmix.bootstrap import blrt_sweep"
   ]
  },
  {
   "cell_type": "code",
   "execution_count": 2,
   "id": "62855d2d-e864-4f5b-a071-315a12c5610d",
   "metadata": {},
   "outputs": [],
   "source": [
    "varList=['FEBRE', 'MIALGIA', 'CEFALEIA','EXANTEMA', 'VOMITO','NAUSEA','DOR_COSTAS','CONJUNTVIT','ARTRITE',\n",
    "'ARTRALGIA','PETEQUIA_N','LEUCOPENIA','LACO','DOR_RETRO','DIABETES','HEMATOLOG','HEPATOPAT','RENAL',\n",
    "          'HIPERTENSA','ACIDO_PEPT','AUTO_IMUNE']"
   ]
  },
  {
   "cell_type": "code",
   "execution_count": 3,
   "id": "228fe5cc-d1da-4ba6-bc5c-b7108f80d180",
   "metadata": {},
   "outputs": [],
   "source": [
    "df=pd.read_parquet('./data/data_SinanDengue_2019_treated_part.parquet')"
   ]
  },
  {
   "cell_type": "code",
   "execution_count": 4,
   "id": "aa7f0374-a75a-4431-b972-5b3c66384348",
   "metadata": {},
   "outputs": [],
   "source": [
    "df3=df.dropna()"
   ]
  },
  {
   "cell_type": "code",
   "execution_count": 7,
   "id": "8a9cec06-ff2c-4e53-86c8-b1d9431dae12",
   "metadata": {},
   "outputs": [
    {
     "name": "stdout",
     "output_type": "stream",
     "text": [
      "Testing 20 vs. 21 classes...\n"
     ]
    },
    {
     "name": "stderr",
     "output_type": "stream",
     "text": [
      "/home/tomoe/anaconda3/envs/2507DenguePy/lib/python3.13/site-packages/stepmix/stepmix.py:968: ConvergenceWarning: Initializations did not converge. Try different init parameters, or increase max_iter, abs_tol, rel_tol or check for degenerate data.\n",
      "  warnings.warn(\n",
      "/home/tomoe/anaconda3/envs/2507DenguePy/lib/python3.13/site-packages/stepmix/stepmix.py:968: ConvergenceWarning: Initializations did not converge. Try different init parameters, or increase max_iter, abs_tol, rel_tol or check for degenerate data.\n",
      "  warnings.warn(\n"
     ]
    },
    {
     "name": "stdout",
     "output_type": "stream",
     "text": [
      "Bootstrapping null model...\n",
      "\n",
      "Bootstrapping estimator...\n"
     ]
    },
    {
     "name": "stderr",
     "output_type": "stream",
     "text": [
      "Bootstrap Repetitions    :   0%|                         | 0/20 [00:00<?, ?it/s]/home/tomoe/anaconda3/envs/2507DenguePy/lib/python3.13/site-packages/stepmix/stepmix.py:968: ConvergenceWarning: Initializations did not converge. Try different init parameters, or increase max_iter, abs_tol, rel_tol or check for degenerate data.\n",
      "  warnings.warn(\n",
      "Bootstrap Repetitions    :   5%| | 1/20 [36:38<11:36:14, 2198.64s/it, max_LL=-1./home/tomoe/anaconda3/envs/2507DenguePy/lib/python3.13/site-packages/stepmix/stepmix.py:968: ConvergenceWarning: Initializations did not converge. Try different init parameters, or increase max_iter, abs_tol, rel_tol or check for degenerate data.\n",
      "  warnings.warn(\n",
      "Bootstrap Repetitions    :  10%| | 2/20 [1:13:11<10:58:31, 2195.10s/it, max_LL=-/home/tomoe/anaconda3/envs/2507DenguePy/lib/python3.13/site-packages/stepmix/stepmix.py:968: ConvergenceWarning: Initializations did not converge. Try different init parameters, or increase max_iter, abs_tol, rel_tol or check for degenerate data.\n",
      "  warnings.warn(\n",
      "Bootstrap Repetitions    :  15%|▏| 3/20 [1:50:08<10:24:44, 2205.00s/it, max_LL=-/home/tomoe/anaconda3/envs/2507DenguePy/lib/python3.13/site-packages/stepmix/stepmix.py:968: ConvergenceWarning: Initializations did not converge. Try different init parameters, or increase max_iter, abs_tol, rel_tol or check for degenerate data.\n",
      "  warnings.warn(\n",
      "Bootstrap Repetitions    :  20%|▏| 4/20 [2:26:51<9:47:48, 2204.29s/it, max_LL=-1/home/tomoe/anaconda3/envs/2507DenguePy/lib/python3.13/site-packages/stepmix/stepmix.py:968: ConvergenceWarning: Initializations did not converge. Try different init parameters, or increase max_iter, abs_tol, rel_tol or check for degenerate data.\n",
      "  warnings.warn(\n",
      "Bootstrap Repetitions    :  25%|▎| 5/20 [3:03:40<9:11:33, 2206.25s/it, max_LL=-1/home/tomoe/anaconda3/envs/2507DenguePy/lib/python3.13/site-packages/stepmix/stepmix.py:968: ConvergenceWarning: Initializations did not converge. Try different init parameters, or increase max_iter, abs_tol, rel_tol or check for degenerate data.\n",
      "  warnings.warn(\n",
      "Bootstrap Repetitions    :  30%|▎| 6/20 [3:40:39<8:35:46, 2210.49s/it, max_LL=-1/home/tomoe/anaconda3/envs/2507DenguePy/lib/python3.13/site-packages/stepmix/stepmix.py:968: ConvergenceWarning: Initializations did not converge. Try different init parameters, or increase max_iter, abs_tol, rel_tol or check for degenerate data.\n",
      "  warnings.warn(\n",
      "Bootstrap Repetitions    :  35%|▎| 7/20 [4:17:27<7:58:46, 2209.72s/it, max_LL=-1/home/tomoe/anaconda3/envs/2507DenguePy/lib/python3.13/site-packages/stepmix/stepmix.py:968: ConvergenceWarning: Initializations did not converge. Try different init parameters, or increase max_iter, abs_tol, rel_tol or check for degenerate data.\n",
      "  warnings.warn(\n",
      "Bootstrap Repetitions    :  40%|▍| 8/20 [4:54:21<7:22:12, 2211.02s/it, max_LL=-1/home/tomoe/anaconda3/envs/2507DenguePy/lib/python3.13/site-packages/stepmix/stepmix.py:968: ConvergenceWarning: Initializations did not converge. Try different init parameters, or increase max_iter, abs_tol, rel_tol or check for degenerate data.\n",
      "  warnings.warn(\n",
      "Bootstrap Repetitions    :  45%|▍| 9/20 [5:31:25<6:46:05, 2215.03s/it, max_LL=-1/home/tomoe/anaconda3/envs/2507DenguePy/lib/python3.13/site-packages/stepmix/stepmix.py:968: ConvergenceWarning: Initializations did not converge. Try different init parameters, or increase max_iter, abs_tol, rel_tol or check for degenerate data.\n",
      "  warnings.warn(\n",
      "Bootstrap Repetitions    :  50%|▌| 10/20 [6:08:24<6:09:21, 2216.16s/it, max_LL=-/home/tomoe/anaconda3/envs/2507DenguePy/lib/python3.13/site-packages/stepmix/stepmix.py:968: ConvergenceWarning: Initializations did not converge. Try different init parameters, or increase max_iter, abs_tol, rel_tol or check for degenerate data.\n",
      "  warnings.warn(\n",
      "Bootstrap Repetitions    :  55%|▌| 11/20 [6:45:14<5:32:08, 2214.23s/it, max_LL=-/home/tomoe/anaconda3/envs/2507DenguePy/lib/python3.13/site-packages/stepmix/stepmix.py:968: ConvergenceWarning: Initializations did not converge. Try different init parameters, or increase max_iter, abs_tol, rel_tol or check for degenerate data.\n",
      "  warnings.warn(\n",
      "Bootstrap Repetitions    :  60%|▌| 12/20 [7:21:33<4:53:48, 2203.52s/it, max_LL=-/home/tomoe/anaconda3/envs/2507DenguePy/lib/python3.13/site-packages/stepmix/stepmix.py:968: ConvergenceWarning: Initializations did not converge. Try different init parameters, or increase max_iter, abs_tol, rel_tol or check for degenerate data.\n",
      "  warnings.warn(\n",
      "Bootstrap Repetitions    :  65%|▋| 13/20 [7:58:17<4:17:07, 2203.86s/it, max_LL=-/home/tomoe/anaconda3/envs/2507DenguePy/lib/python3.13/site-packages/stepmix/stepmix.py:968: ConvergenceWarning: Initializations did not converge. Try different init parameters, or increase max_iter, abs_tol, rel_tol or check for degenerate data.\n",
      "  warnings.warn(\n",
      "Bootstrap Repetitions    :  70%|▋| 14/20 [8:35:02<3:40:24, 2204.14s/it, max_LL=-/home/tomoe/anaconda3/envs/2507DenguePy/lib/python3.13/site-packages/stepmix/stepmix.py:968: ConvergenceWarning: Initializations did not converge. Try different init parameters, or increase max_iter, abs_tol, rel_tol or check for degenerate data.\n",
      "  warnings.warn(\n",
      "Bootstrap Repetitions    :  75%|▊| 15/20 [9:11:30<3:03:16, 2199.31s/it, max_LL=-/home/tomoe/anaconda3/envs/2507DenguePy/lib/python3.13/site-packages/stepmix/stepmix.py:968: ConvergenceWarning: Initializations did not converge. Try different init parameters, or increase max_iter, abs_tol, rel_tol or check for degenerate data.\n",
      "  warnings.warn(\n",
      "Bootstrap Repetitions    :  80%|▊| 16/20 [9:48:16<2:26:45, 2201.32s/it, max_LL=-/home/tomoe/anaconda3/envs/2507DenguePy/lib/python3.13/site-packages/stepmix/stepmix.py:968: ConvergenceWarning: Initializations did not converge. Try different init parameters, or increase max_iter, abs_tol, rel_tol or check for degenerate data.\n",
      "  warnings.warn(\n",
      "Bootstrap Repetitions    :  85%|▊| 17/20 [10:25:06<1:50:12, 2204.04s/it, max_LL=/home/tomoe/anaconda3/envs/2507DenguePy/lib/python3.13/site-packages/stepmix/stepmix.py:968: ConvergenceWarning: Initializations did not converge. Try different init parameters, or increase max_iter, abs_tol, rel_tol or check for degenerate data.\n",
      "  warnings.warn(\n",
      "Bootstrap Repetitions    :  90%|▉| 18/20 [11:03:25<1:14:24, 2232.36s/it, max_LL=/home/tomoe/anaconda3/envs/2507DenguePy/lib/python3.13/site-packages/stepmix/stepmix.py:968: ConvergenceWarning: Initializations did not converge. Try different init parameters, or increase max_iter, abs_tol, rel_tol or check for degenerate data.\n",
      "  warnings.warn(\n",
      "Bootstrap Repetitions    :  95%|▉| 19/20 [11:41:56<37:36, 2256.05s/it, max_LL=-1/home/tomoe/anaconda3/envs/2507DenguePy/lib/python3.13/site-packages/stepmix/stepmix.py:968: ConvergenceWarning: Initializations did not converge. Try different init parameters, or increase max_iter, abs_tol, rel_tol or check for degenerate data.\n",
      "  warnings.warn(\n",
      "Bootstrap Repetitions    : 100%|█| 20/20 [12:20:31<00:00, 2221.59s/it, max_LL=-1\n"
     ]
    },
    {
     "name": "stdout",
     "output_type": "stream",
     "text": [
      "\n",
      "Bootstrapping alternative model...\n",
      "\n",
      "Bootstrapping estimator...\n"
     ]
    },
    {
     "name": "stderr",
     "output_type": "stream",
     "text": [
      "Bootstrap Repetitions    :   0%|                         | 0/20 [00:00<?, ?it/s]/home/tomoe/anaconda3/envs/2507DenguePy/lib/python3.13/site-packages/stepmix/stepmix.py:968: ConvergenceWarning: Initializations did not converge. Try different init parameters, or increase max_iter, abs_tol, rel_tol or check for degenerate data.\n",
      "  warnings.warn(\n",
      "Bootstrap Repetitions    :   5%| | 1/20 [39:21<12:27:47, 2361.46s/it, max_LL=-1./home/tomoe/anaconda3/envs/2507DenguePy/lib/python3.13/site-packages/stepmix/stepmix.py:968: ConvergenceWarning: Initializations did not converge. Try different init parameters, or increase max_iter, abs_tol, rel_tol or check for degenerate data.\n",
      "  warnings.warn(\n",
      "Bootstrap Repetitions    :  10%| | 2/20 [1:19:08<11:52:57, 2376.54s/it, max_LL=-/home/tomoe/anaconda3/envs/2507DenguePy/lib/python3.13/site-packages/stepmix/stepmix.py:968: ConvergenceWarning: Initializations did not converge. Try different init parameters, or increase max_iter, abs_tol, rel_tol or check for degenerate data.\n",
      "  warnings.warn(\n",
      "Bootstrap Repetitions    :  15%|▏| 3/20 [1:59:36<11:20:01, 2400.06s/it, max_LL=-/home/tomoe/anaconda3/envs/2507DenguePy/lib/python3.13/site-packages/stepmix/stepmix.py:968: ConvergenceWarning: Initializations did not converge. Try different init parameters, or increase max_iter, abs_tol, rel_tol or check for degenerate data.\n",
      "  warnings.warn(\n",
      "Bootstrap Repetitions    :  20%|▏| 4/20 [2:37:47<10:28:32, 2357.05s/it, max_LL=-/home/tomoe/anaconda3/envs/2507DenguePy/lib/python3.13/site-packages/stepmix/stepmix.py:968: ConvergenceWarning: Initializations did not converge. Try different init parameters, or increase max_iter, abs_tol, rel_tol or check for degenerate data.\n",
      "  warnings.warn(\n",
      "Bootstrap Repetitions    :  25%|▎| 5/20 [3:18:02<9:54:27, 2377.81s/it, max_LL=-1/home/tomoe/anaconda3/envs/2507DenguePy/lib/python3.13/site-packages/stepmix/stepmix.py:968: ConvergenceWarning: Initializations did not converge. Try different init parameters, or increase max_iter, abs_tol, rel_tol or check for degenerate data.\n",
      "  warnings.warn(\n",
      "Bootstrap Repetitions    :  30%|▎| 6/20 [3:57:29<9:13:57, 2374.11s/it, max_LL=-1/home/tomoe/anaconda3/envs/2507DenguePy/lib/python3.13/site-packages/stepmix/stepmix.py:968: ConvergenceWarning: Initializations did not converge. Try different init parameters, or increase max_iter, abs_tol, rel_tol or check for degenerate data.\n",
      "  warnings.warn(\n",
      "Bootstrap Repetitions    :  35%|▎| 7/20 [4:37:43<8:37:13, 2387.23s/it, max_LL=-1/home/tomoe/anaconda3/envs/2507DenguePy/lib/python3.13/site-packages/stepmix/stepmix.py:968: ConvergenceWarning: Initializations did not converge. Try different init parameters, or increase max_iter, abs_tol, rel_tol or check for degenerate data.\n",
      "  warnings.warn(\n",
      "Bootstrap Repetitions    :  40%|▍| 8/20 [5:18:24<8:00:51, 2404.30s/it, max_LL=-1/home/tomoe/anaconda3/envs/2507DenguePy/lib/python3.13/site-packages/stepmix/stepmix.py:968: ConvergenceWarning: Initializations did not converge. Try different init parameters, or increase max_iter, abs_tol, rel_tol or check for degenerate data.\n",
      "  warnings.warn(\n",
      "Bootstrap Repetitions    :  45%|▍| 9/20 [5:57:26<7:17:14, 2384.97s/it, max_LL=-1/home/tomoe/anaconda3/envs/2507DenguePy/lib/python3.13/site-packages/stepmix/stepmix.py:968: ConvergenceWarning: Initializations did not converge. Try different init parameters, or increase max_iter, abs_tol, rel_tol or check for degenerate data.\n",
      "  warnings.warn(\n",
      "Bootstrap Repetitions    :  50%|▌| 10/20 [6:35:50<6:33:18, 2359.83s/it, max_LL=-/home/tomoe/anaconda3/envs/2507DenguePy/lib/python3.13/site-packages/stepmix/stepmix.py:968: ConvergenceWarning: Initializations did not converge. Try different init parameters, or increase max_iter, abs_tol, rel_tol or check for degenerate data.\n",
      "  warnings.warn(\n",
      "Bootstrap Repetitions    :  55%|▌| 11/20 [7:14:23<5:51:48, 2345.42s/it, max_LL=-/home/tomoe/anaconda3/envs/2507DenguePy/lib/python3.13/site-packages/stepmix/stepmix.py:968: ConvergenceWarning: Initializations did not converge. Try different init parameters, or increase max_iter, abs_tol, rel_tol or check for degenerate data.\n",
      "  warnings.warn(\n",
      "Bootstrap Repetitions    :  60%|▌| 12/20 [7:52:59<5:11:33, 2336.66s/it, max_LL=-/home/tomoe/anaconda3/envs/2507DenguePy/lib/python3.13/site-packages/stepmix/stepmix.py:968: ConvergenceWarning: Initializations did not converge. Try different init parameters, or increase max_iter, abs_tol, rel_tol or check for degenerate data.\n",
      "  warnings.warn(\n",
      "Bootstrap Repetitions    :  65%|▋| 13/20 [8:31:54<4:32:31, 2335.97s/it, max_LL=-/home/tomoe/anaconda3/envs/2507DenguePy/lib/python3.13/site-packages/stepmix/stepmix.py:968: ConvergenceWarning: Initializations did not converge. Try different init parameters, or increase max_iter, abs_tol, rel_tol or check for degenerate data.\n",
      "  warnings.warn(\n",
      "Bootstrap Repetitions    :  70%|▋| 14/20 [9:11:05<3:54:03, 2340.58s/it, max_LL=-/home/tomoe/anaconda3/envs/2507DenguePy/lib/python3.13/site-packages/stepmix/stepmix.py:968: ConvergenceWarning: Initializations did not converge. Try different init parameters, or increase max_iter, abs_tol, rel_tol or check for degenerate data.\n",
      "  warnings.warn(\n",
      "Bootstrap Repetitions    :  75%|▊| 15/20 [9:50:05<3:15:02, 2340.52s/it, max_LL=-/home/tomoe/anaconda3/envs/2507DenguePy/lib/python3.13/site-packages/stepmix/stepmix.py:968: ConvergenceWarning: Initializations did not converge. Try different init parameters, or increase max_iter, abs_tol, rel_tol or check for degenerate data.\n",
      "  warnings.warn(\n",
      "Bootstrap Repetitions    :  80%|▊| 16/20 [10:29:09<2:36:05, 2341.41s/it, max_LL=/home/tomoe/anaconda3/envs/2507DenguePy/lib/python3.13/site-packages/stepmix/stepmix.py:968: ConvergenceWarning: Initializations did not converge. Try different init parameters, or increase max_iter, abs_tol, rel_tol or check for degenerate data.\n",
      "  warnings.warn(\n",
      "Bootstrap Repetitions    :  85%|▊| 17/20 [11:08:40<1:57:30, 2350.31s/it, max_LL=/home/tomoe/anaconda3/envs/2507DenguePy/lib/python3.13/site-packages/stepmix/stepmix.py:968: ConvergenceWarning: Initializations did not converge. Try different init parameters, or increase max_iter, abs_tol, rel_tol or check for degenerate data.\n",
      "  warnings.warn(\n",
      "Bootstrap Repetitions    :  90%|▉| 18/20 [11:47:50<1:18:20, 2350.30s/it, max_LL=/home/tomoe/anaconda3/envs/2507DenguePy/lib/python3.13/site-packages/stepmix/stepmix.py:968: ConvergenceWarning: Initializations did not converge. Try different init parameters, or increase max_iter, abs_tol, rel_tol or check for degenerate data.\n",
      "  warnings.warn(\n",
      "Bootstrap Repetitions    :  95%|▉| 19/20 [12:26:56<39:09, 2349.10s/it, max_LL=-1/home/tomoe/anaconda3/envs/2507DenguePy/lib/python3.13/site-packages/stepmix/stepmix.py:968: ConvergenceWarning: Initializations did not converge. Try different init parameters, or increase max_iter, abs_tol, rel_tol or check for degenerate data.\n",
      "  warnings.warn(\n",
      "Bootstrap Repetitions    : 100%|█| 20/20 [13:06:32<00:00, 2359.62s/it, max_LL=-1\n"
     ]
    },
    {
     "name": "stdout",
     "output_type": "stream",
     "text": [
      "Testing 21 vs. 22 classes...\n"
     ]
    },
    {
     "name": "stderr",
     "output_type": "stream",
     "text": [
      "/home/tomoe/anaconda3/envs/2507DenguePy/lib/python3.13/site-packages/stepmix/stepmix.py:968: ConvergenceWarning: Initializations did not converge. Try different init parameters, or increase max_iter, abs_tol, rel_tol or check for degenerate data.\n",
      "  warnings.warn(\n",
      "/home/tomoe/anaconda3/envs/2507DenguePy/lib/python3.13/site-packages/stepmix/stepmix.py:968: ConvergenceWarning: Initializations did not converge. Try different init parameters, or increase max_iter, abs_tol, rel_tol or check for degenerate data.\n",
      "  warnings.warn(\n"
     ]
    },
    {
     "name": "stdout",
     "output_type": "stream",
     "text": [
      "Bootstrapping null model...\n",
      "\n",
      "Bootstrapping estimator...\n"
     ]
    },
    {
     "name": "stderr",
     "output_type": "stream",
     "text": [
      "Bootstrap Repetitions    :   0%|                         | 0/20 [00:00<?, ?it/s]/home/tomoe/anaconda3/envs/2507DenguePy/lib/python3.13/site-packages/stepmix/stepmix.py:968: ConvergenceWarning: Initializations did not converge. Try different init parameters, or increase max_iter, abs_tol, rel_tol or check for degenerate data.\n",
      "  warnings.warn(\n",
      "Bootstrap Repetitions    :   5%| | 1/20 [39:50<12:36:58, 2390.45s/it, max_LL=-1./home/tomoe/anaconda3/envs/2507DenguePy/lib/python3.13/site-packages/stepmix/stepmix.py:968: ConvergenceWarning: Initializations did not converge. Try different init parameters, or increase max_iter, abs_tol, rel_tol or check for degenerate data.\n",
      "  warnings.warn(\n",
      "Bootstrap Repetitions    :  10%| | 2/20 [1:19:27<11:54:45, 2382.51s/it, max_LL=-/home/tomoe/anaconda3/envs/2507DenguePy/lib/python3.13/site-packages/stepmix/stepmix.py:968: ConvergenceWarning: Initializations did not converge. Try different init parameters, or increase max_iter, abs_tol, rel_tol or check for degenerate data.\n",
      "  warnings.warn(\n",
      "Bootstrap Repetitions    :  15%|▏| 3/20 [1:59:23<11:16:47, 2388.66s/it, max_LL=-/home/tomoe/anaconda3/envs/2507DenguePy/lib/python3.13/site-packages/stepmix/stepmix.py:968: ConvergenceWarning: Initializations did not converge. Try different init parameters, or increase max_iter, abs_tol, rel_tol or check for degenerate data.\n",
      "  warnings.warn(\n",
      "Bootstrap Repetitions    :  20%|▏| 4/20 [2:39:18<10:37:39, 2391.22s/it, max_LL=-/home/tomoe/anaconda3/envs/2507DenguePy/lib/python3.13/site-packages/stepmix/stepmix.py:968: ConvergenceWarning: Initializations did not converge. Try different init parameters, or increase max_iter, abs_tol, rel_tol or check for degenerate data.\n",
      "  warnings.warn(\n",
      "Bootstrap Repetitions    :  25%|▎| 5/20 [3:18:58<9:56:45, 2387.05s/it, max_LL=-1/home/tomoe/anaconda3/envs/2507DenguePy/lib/python3.13/site-packages/stepmix/stepmix.py:968: ConvergenceWarning: Initializations did not converge. Try different init parameters, or increase max_iter, abs_tol, rel_tol or check for degenerate data.\n",
      "  warnings.warn(\n",
      "Bootstrap Repetitions    :  30%|▎| 6/20 [3:58:33<9:16:04, 2383.18s/it, max_LL=-1/home/tomoe/anaconda3/envs/2507DenguePy/lib/python3.13/site-packages/stepmix/stepmix.py:968: ConvergenceWarning: Initializations did not converge. Try different init parameters, or increase max_iter, abs_tol, rel_tol or check for degenerate data.\n",
      "  warnings.warn(\n",
      "Bootstrap Repetitions    :  35%|▎| 7/20 [4:38:16<8:36:19, 2383.01s/it, max_LL=-1/home/tomoe/anaconda3/envs/2507DenguePy/lib/python3.13/site-packages/stepmix/stepmix.py:968: ConvergenceWarning: Initializations did not converge. Try different init parameters, or increase max_iter, abs_tol, rel_tol or check for degenerate data.\n",
      "  warnings.warn(\n",
      "Bootstrap Repetitions    :  40%|▍| 8/20 [5:17:49<7:55:59, 2379.95s/it, max_LL=-1/home/tomoe/anaconda3/envs/2507DenguePy/lib/python3.13/site-packages/stepmix/stepmix.py:968: ConvergenceWarning: Initializations did not converge. Try different init parameters, or increase max_iter, abs_tol, rel_tol or check for degenerate data.\n",
      "  warnings.warn(\n",
      "Bootstrap Repetitions    :  45%|▍| 9/20 [5:57:52<7:17:36, 2386.94s/it, max_LL=-1/home/tomoe/anaconda3/envs/2507DenguePy/lib/python3.13/site-packages/stepmix/stepmix.py:968: ConvergenceWarning: Initializations did not converge. Try different init parameters, or increase max_iter, abs_tol, rel_tol or check for degenerate data.\n",
      "  warnings.warn(\n",
      "Bootstrap Repetitions    :  50%|▌| 10/20 [6:38:02<6:39:01, 2394.11s/it, max_LL=-/home/tomoe/anaconda3/envs/2507DenguePy/lib/python3.13/site-packages/stepmix/stepmix.py:968: ConvergenceWarning: Initializations did not converge. Try different init parameters, or increase max_iter, abs_tol, rel_tol or check for degenerate data.\n",
      "  warnings.warn(\n",
      "Bootstrap Repetitions    :  55%|▌| 11/20 [7:17:56<5:59:06, 2394.10s/it, max_LL=-/home/tomoe/anaconda3/envs/2507DenguePy/lib/python3.13/site-packages/stepmix/stepmix.py:968: ConvergenceWarning: Initializations did not converge. Try different init parameters, or increase max_iter, abs_tol, rel_tol or check for degenerate data.\n",
      "  warnings.warn(\n",
      "Bootstrap Repetitions    :  60%|▌| 12/20 [7:58:18<5:20:21, 2402.63s/it, max_LL=-/home/tomoe/anaconda3/envs/2507DenguePy/lib/python3.13/site-packages/stepmix/stepmix.py:968: ConvergenceWarning: Initializations did not converge. Try different init parameters, or increase max_iter, abs_tol, rel_tol or check for degenerate data.\n",
      "  warnings.warn(\n",
      "Bootstrap Repetitions    :  65%|▋| 13/20 [8:38:42<4:41:03, 2409.10s/it, max_LL=-/home/tomoe/anaconda3/envs/2507DenguePy/lib/python3.13/site-packages/stepmix/stepmix.py:968: ConvergenceWarning: Initializations did not converge. Try different init parameters, or increase max_iter, abs_tol, rel_tol or check for degenerate data.\n",
      "  warnings.warn(\n",
      "Bootstrap Repetitions    :  70%|▋| 14/20 [9:21:15<4:05:15, 2452.64s/it, max_LL=-/home/tomoe/anaconda3/envs/2507DenguePy/lib/python3.13/site-packages/stepmix/stepmix.py:968: ConvergenceWarning: Initializations did not converge. Try different init parameters, or increase max_iter, abs_tol, rel_tol or check for degenerate data.\n",
      "  warnings.warn(\n",
      "Bootstrap Repetitions    :  75%|▊| 15/20 [10:02:48<3:25:22, 2464.60s/it, max_LL=/home/tomoe/anaconda3/envs/2507DenguePy/lib/python3.13/site-packages/stepmix/stepmix.py:968: ConvergenceWarning: Initializations did not converge. Try different init parameters, or increase max_iter, abs_tol, rel_tol or check for degenerate data.\n",
      "  warnings.warn(\n",
      "Bootstrap Repetitions    :  80%|▊| 16/20 [10:43:21<2:43:41, 2455.25s/it, max_LL=/home/tomoe/anaconda3/envs/2507DenguePy/lib/python3.13/site-packages/stepmix/stepmix.py:968: ConvergenceWarning: Initializations did not converge. Try different init parameters, or increase max_iter, abs_tol, rel_tol or check for degenerate data.\n",
      "  warnings.warn(\n",
      "Bootstrap Repetitions    :  85%|▊| 17/20 [11:25:24<2:03:47, 2475.68s/it, max_LL=/home/tomoe/anaconda3/envs/2507DenguePy/lib/python3.13/site-packages/stepmix/stepmix.py:968: ConvergenceWarning: Initializations did not converge. Try different init parameters, or increase max_iter, abs_tol, rel_tol or check for degenerate data.\n",
      "  warnings.warn(\n",
      "Bootstrap Repetitions    :  90%|▉| 18/20 [12:08:06<1:23:22, 2501.48s/it, max_LL=/home/tomoe/anaconda3/envs/2507DenguePy/lib/python3.13/site-packages/stepmix/stepmix.py:968: ConvergenceWarning: Initializations did not converge. Try different init parameters, or increase max_iter, abs_tol, rel_tol or check for degenerate data.\n",
      "  warnings.warn(\n",
      "Bootstrap Repetitions    :  95%|▉| 19/20 [12:50:03<41:46, 2506.14s/it, max_LL=-1/home/tomoe/anaconda3/envs/2507DenguePy/lib/python3.13/site-packages/stepmix/stepmix.py:968: ConvergenceWarning: Initializations did not converge. Try different init parameters, or increase max_iter, abs_tol, rel_tol or check for degenerate data.\n",
      "  warnings.warn(\n",
      "Bootstrap Repetitions    : 100%|█| 20/20 [13:31:08<00:00, 2433.41s/it, max_LL=-1\n"
     ]
    },
    {
     "name": "stdout",
     "output_type": "stream",
     "text": [
      "\n",
      "Bootstrapping alternative model...\n",
      "\n",
      "Bootstrapping estimator...\n"
     ]
    },
    {
     "name": "stderr",
     "output_type": "stream",
     "text": [
      "Bootstrap Repetitions    :   0%|                         | 0/20 [00:00<?, ?it/s]/home/tomoe/anaconda3/envs/2507DenguePy/lib/python3.13/site-packages/stepmix/stepmix.py:968: ConvergenceWarning: Initializations did not converge. Try different init parameters, or increase max_iter, abs_tol, rel_tol or check for degenerate data.\n",
      "  warnings.warn(\n",
      "Bootstrap Repetitions    :   5%| | 1/20 [41:59<13:17:45, 2519.22s/it, max_LL=-1./home/tomoe/anaconda3/envs/2507DenguePy/lib/python3.13/site-packages/stepmix/stepmix.py:968: ConvergenceWarning: Initializations did not converge. Try different init parameters, or increase max_iter, abs_tol, rel_tol or check for degenerate data.\n",
      "  warnings.warn(\n",
      "Bootstrap Repetitions    :  10%| | 2/20 [1:23:16<12:28:26, 2494.81s/it, max_LL=-/home/tomoe/anaconda3/envs/2507DenguePy/lib/python3.13/site-packages/stepmix/stepmix.py:968: ConvergenceWarning: Initializations did not converge. Try different init parameters, or increase max_iter, abs_tol, rel_tol or check for degenerate data.\n",
      "  warnings.warn(\n",
      "Bootstrap Repetitions    :  15%|▏| 3/20 [2:05:30<11:51:51, 2512.46s/it, max_LL=-/home/tomoe/anaconda3/envs/2507DenguePy/lib/python3.13/site-packages/stepmix/stepmix.py:968: ConvergenceWarning: Initializations did not converge. Try different init parameters, or increase max_iter, abs_tol, rel_tol or check for degenerate data.\n",
      "  warnings.warn(\n",
      "Bootstrap Repetitions    :  20%|▏| 4/20 [2:47:41<11:11:56, 2519.77s/it, max_LL=-/home/tomoe/anaconda3/envs/2507DenguePy/lib/python3.13/site-packages/stepmix/stepmix.py:968: ConvergenceWarning: Initializations did not converge. Try different init parameters, or increase max_iter, abs_tol, rel_tol or check for degenerate data.\n",
      "  warnings.warn(\n",
      "Bootstrap Repetitions    :  25%|▎| 5/20 [3:29:59<10:31:38, 2526.55s/it, max_LL=-/home/tomoe/anaconda3/envs/2507DenguePy/lib/python3.13/site-packages/stepmix/stepmix.py:968: ConvergenceWarning: Initializations did not converge. Try different init parameters, or increase max_iter, abs_tol, rel_tol or check for degenerate data.\n",
      "  warnings.warn(\n",
      "Bootstrap Repetitions    :  30%|▎| 6/20 [4:12:07<9:49:34, 2526.78s/it, max_LL=-1/home/tomoe/anaconda3/envs/2507DenguePy/lib/python3.13/site-packages/stepmix/stepmix.py:968: ConvergenceWarning: Initializations did not converge. Try different init parameters, or increase max_iter, abs_tol, rel_tol or check for degenerate data.\n",
      "  warnings.warn(\n",
      "Bootstrap Repetitions    :  35%|▎| 7/20 [4:54:06<9:06:58, 2524.50s/it, max_LL=-1/home/tomoe/anaconda3/envs/2507DenguePy/lib/python3.13/site-packages/stepmix/stepmix.py:968: ConvergenceWarning: Initializations did not converge. Try different init parameters, or increase max_iter, abs_tol, rel_tol or check for degenerate data.\n",
      "  warnings.warn(\n",
      "Bootstrap Repetitions    :  40%|▍| 8/20 [5:36:15<8:25:10, 2525.91s/it, max_LL=-1/home/tomoe/anaconda3/envs/2507DenguePy/lib/python3.13/site-packages/stepmix/stepmix.py:968: ConvergenceWarning: Initializations did not converge. Try different init parameters, or increase max_iter, abs_tol, rel_tol or check for degenerate data.\n",
      "  warnings.warn(\n",
      "Bootstrap Repetitions    :  45%|▍| 9/20 [6:18:22<7:43:08, 2526.21s/it, max_LL=-1/home/tomoe/anaconda3/envs/2507DenguePy/lib/python3.13/site-packages/stepmix/stepmix.py:968: ConvergenceWarning: Initializations did not converge. Try different init parameters, or increase max_iter, abs_tol, rel_tol or check for degenerate data.\n",
      "  warnings.warn(\n",
      "Bootstrap Repetitions    :  50%|▌| 10/20 [7:00:17<7:00:26, 2522.62s/it, max_LL=-/home/tomoe/anaconda3/envs/2507DenguePy/lib/python3.13/site-packages/stepmix/stepmix.py:968: ConvergenceWarning: Initializations did not converge. Try different init parameters, or increase max_iter, abs_tol, rel_tol or check for degenerate data.\n",
      "  warnings.warn(\n",
      "Bootstrap Repetitions    :  55%|▌| 11/20 [7:42:16<6:18:13, 2521.53s/it, max_LL=-/home/tomoe/anaconda3/envs/2507DenguePy/lib/python3.13/site-packages/stepmix/stepmix.py:968: ConvergenceWarning: Initializations did not converge. Try different init parameters, or increase max_iter, abs_tol, rel_tol or check for degenerate data.\n",
      "  warnings.warn(\n",
      "Bootstrap Repetitions    :  60%|▌| 12/20 [8:24:06<5:35:45, 2518.17s/it, max_LL=-/home/tomoe/anaconda3/envs/2507DenguePy/lib/python3.13/site-packages/stepmix/stepmix.py:968: ConvergenceWarning: Initializations did not converge. Try different init parameters, or increase max_iter, abs_tol, rel_tol or check for degenerate data.\n",
      "  warnings.warn(\n",
      "Bootstrap Repetitions    :  65%|▋| 13/20 [9:06:21<4:54:22, 2523.28s/it, max_LL=-/home/tomoe/anaconda3/envs/2507DenguePy/lib/python3.13/site-packages/stepmix/stepmix.py:968: ConvergenceWarning: Initializations did not converge. Try different init parameters, or increase max_iter, abs_tol, rel_tol or check for degenerate data.\n",
      "  warnings.warn(\n",
      "Bootstrap Repetitions    :  70%|▋| 14/20 [9:48:21<4:12:12, 2522.02s/it, max_LL=-/home/tomoe/anaconda3/envs/2507DenguePy/lib/python3.13/site-packages/stepmix/stepmix.py:968: ConvergenceWarning: Initializations did not converge. Try different init parameters, or increase max_iter, abs_tol, rel_tol or check for degenerate data.\n",
      "  warnings.warn(\n",
      "Bootstrap Repetitions    :  75%|▊| 15/20 [10:30:29<3:30:20, 2524.06s/it, max_LL=/home/tomoe/anaconda3/envs/2507DenguePy/lib/python3.13/site-packages/stepmix/stepmix.py:968: ConvergenceWarning: Initializations did not converge. Try different init parameters, or increase max_iter, abs_tol, rel_tol or check for degenerate data.\n",
      "  warnings.warn(\n",
      "Bootstrap Repetitions    :  80%|▊| 16/20 [11:12:53<2:48:40, 2530.06s/it, max_LL=/home/tomoe/anaconda3/envs/2507DenguePy/lib/python3.13/site-packages/stepmix/stepmix.py:968: ConvergenceWarning: Initializations did not converge. Try different init parameters, or increase max_iter, abs_tol, rel_tol or check for degenerate data.\n",
      "  warnings.warn(\n",
      "Bootstrap Repetitions    :  85%|▊| 17/20 [11:55:07<2:06:33, 2531.00s/it, max_LL=/home/tomoe/anaconda3/envs/2507DenguePy/lib/python3.13/site-packages/stepmix/stepmix.py:968: ConvergenceWarning: Initializations did not converge. Try different init parameters, or increase max_iter, abs_tol, rel_tol or check for degenerate data.\n",
      "  warnings.warn(\n",
      "Bootstrap Repetitions    :  90%|▉| 18/20 [12:37:19<1:24:22, 2531.34s/it, max_LL=/home/tomoe/anaconda3/envs/2507DenguePy/lib/python3.13/site-packages/stepmix/stepmix.py:968: ConvergenceWarning: Initializations did not converge. Try different init parameters, or increase max_iter, abs_tol, rel_tol or check for degenerate data.\n",
      "  warnings.warn(\n",
      "Bootstrap Repetitions    :  95%|▉| 19/20 [13:19:31<42:11, 2531.76s/it, max_LL=-1/home/tomoe/anaconda3/envs/2507DenguePy/lib/python3.13/site-packages/stepmix/stepmix.py:968: ConvergenceWarning: Initializations did not converge. Try different init parameters, or increase max_iter, abs_tol, rel_tol or check for degenerate data.\n",
      "  warnings.warn(\n",
      "Bootstrap Repetitions    : 100%|█| 20/20 [14:02:14<00:00, 2526.71s/it, max_LL=-1\n"
     ]
    },
    {
     "name": "stdout",
     "output_type": "stream",
     "text": [
      "Testing 22 vs. 23 classes...\n"
     ]
    },
    {
     "name": "stderr",
     "output_type": "stream",
     "text": [
      "/home/tomoe/anaconda3/envs/2507DenguePy/lib/python3.13/site-packages/stepmix/stepmix.py:968: ConvergenceWarning: Initializations did not converge. Try different init parameters, or increase max_iter, abs_tol, rel_tol or check for degenerate data.\n",
      "  warnings.warn(\n",
      "/home/tomoe/anaconda3/envs/2507DenguePy/lib/python3.13/site-packages/stepmix/stepmix.py:968: ConvergenceWarning: Initializations did not converge. Try different init parameters, or increase max_iter, abs_tol, rel_tol or check for degenerate data.\n",
      "  warnings.warn(\n"
     ]
    },
    {
     "name": "stdout",
     "output_type": "stream",
     "text": [
      "Bootstrapping null model...\n",
      "\n",
      "Bootstrapping estimator...\n"
     ]
    },
    {
     "name": "stderr",
     "output_type": "stream",
     "text": [
      "Bootstrap Repetitions    :   0%|                         | 0/20 [00:00<?, ?it/s]/home/tomoe/anaconda3/envs/2507DenguePy/lib/python3.13/site-packages/stepmix/stepmix.py:968: ConvergenceWarning: Initializations did not converge. Try different init parameters, or increase max_iter, abs_tol, rel_tol or check for degenerate data.\n",
      "  warnings.warn(\n",
      "Bootstrap Repetitions    :   5%| | 1/20 [42:44<13:32:07, 2564.60s/it, max_LL=-1./home/tomoe/anaconda3/envs/2507DenguePy/lib/python3.13/site-packages/stepmix/stepmix.py:968: ConvergenceWarning: Initializations did not converge. Try different init parameters, or increase max_iter, abs_tol, rel_tol or check for degenerate data.\n",
      "  warnings.warn(\n",
      "Bootstrap Repetitions    :  10%| | 2/20 [1:25:37<12:50:47, 2569.29s/it, max_LL=-/home/tomoe/anaconda3/envs/2507DenguePy/lib/python3.13/site-packages/stepmix/stepmix.py:968: ConvergenceWarning: Initializations did not converge. Try different init parameters, or increase max_iter, abs_tol, rel_tol or check for degenerate data.\n",
      "  warnings.warn(\n",
      "Bootstrap Repetitions    :  15%|▏| 3/20 [2:08:41<12:09:55, 2576.18s/it, max_LL=-/home/tomoe/anaconda3/envs/2507DenguePy/lib/python3.13/site-packages/stepmix/stepmix.py:968: ConvergenceWarning: Initializations did not converge. Try different init parameters, or increase max_iter, abs_tol, rel_tol or check for degenerate data.\n",
      "  warnings.warn(\n",
      "Bootstrap Repetitions    :  20%|▏| 4/20 [2:51:26<11:25:48, 2571.76s/it, max_LL=-/home/tomoe/anaconda3/envs/2507DenguePy/lib/python3.13/site-packages/stepmix/stepmix.py:968: ConvergenceWarning: Initializations did not converge. Try different init parameters, or increase max_iter, abs_tol, rel_tol or check for degenerate data.\n",
      "  warnings.warn(\n",
      "Bootstrap Repetitions    :  25%|▎| 5/20 [3:35:30<10:49:27, 2597.85s/it, max_LL=-/home/tomoe/anaconda3/envs/2507DenguePy/lib/python3.13/site-packages/stepmix/stepmix.py:968: ConvergenceWarning: Initializations did not converge. Try different init parameters, or increase max_iter, abs_tol, rel_tol or check for degenerate data.\n",
      "  warnings.warn(\n",
      "Bootstrap Repetitions    :  30%|▎| 6/20 [4:19:08<10:07:45, 2604.65s/it, max_LL=-/home/tomoe/anaconda3/envs/2507DenguePy/lib/python3.13/site-packages/stepmix/stepmix.py:968: ConvergenceWarning: Initializations did not converge. Try different init parameters, or increase max_iter, abs_tol, rel_tol or check for degenerate data.\n",
      "  warnings.warn(\n",
      "Bootstrap Repetitions    :  35%|▎| 7/20 [5:03:19<9:27:39, 2619.96s/it, max_LL=-1/home/tomoe/anaconda3/envs/2507DenguePy/lib/python3.13/site-packages/stepmix/stepmix.py:968: ConvergenceWarning: Initializations did not converge. Try different init parameters, or increase max_iter, abs_tol, rel_tol or check for degenerate data.\n",
      "  warnings.warn(\n",
      "Bootstrap Repetitions    :  40%|▍| 8/20 [5:48:16<8:48:51, 2644.31s/it, max_LL=-1/home/tomoe/anaconda3/envs/2507DenguePy/lib/python3.13/site-packages/stepmix/stepmix.py:968: ConvergenceWarning: Initializations did not converge. Try different init parameters, or increase max_iter, abs_tol, rel_tol or check for degenerate data.\n",
      "  warnings.warn(\n",
      "Bootstrap Repetitions    :  45%|▍| 9/20 [6:32:06<8:03:58, 2639.88s/it, max_LL=-1/home/tomoe/anaconda3/envs/2507DenguePy/lib/python3.13/site-packages/stepmix/stepmix.py:968: ConvergenceWarning: Initializations did not converge. Try different init parameters, or increase max_iter, abs_tol, rel_tol or check for degenerate data.\n",
      "  warnings.warn(\n",
      "Bootstrap Repetitions    :  50%|▌| 10/20 [7:17:13<7:23:24, 2660.48s/it, max_LL=-/home/tomoe/anaconda3/envs/2507DenguePy/lib/python3.13/site-packages/stepmix/stepmix.py:968: ConvergenceWarning: Initializations did not converge. Try different init parameters, or increase max_iter, abs_tol, rel_tol or check for degenerate data.\n",
      "  warnings.warn(\n",
      "Bootstrap Repetitions    :  55%|▌| 11/20 [7:58:57<6:31:54, 2612.75s/it, max_LL=-/home/tomoe/anaconda3/envs/2507DenguePy/lib/python3.13/site-packages/stepmix/stepmix.py:968: ConvergenceWarning: Initializations did not converge. Try different init parameters, or increase max_iter, abs_tol, rel_tol or check for degenerate data.\n",
      "  warnings.warn(\n",
      "Bootstrap Repetitions    :  60%|▌| 12/20 [8:41:07<5:45:00, 2587.56s/it, max_LL=-/home/tomoe/anaconda3/envs/2507DenguePy/lib/python3.13/site-packages/stepmix/stepmix.py:968: ConvergenceWarning: Initializations did not converge. Try different init parameters, or increase max_iter, abs_tol, rel_tol or check for degenerate data.\n",
      "  warnings.warn(\n",
      "Bootstrap Repetitions    :  65%|▋| 13/20 [9:23:25<5:00:06, 2572.43s/it, max_LL=-/home/tomoe/anaconda3/envs/2507DenguePy/lib/python3.13/site-packages/stepmix/stepmix.py:968: ConvergenceWarning: Initializations did not converge. Try different init parameters, or increase max_iter, abs_tol, rel_tol or check for degenerate data.\n",
      "  warnings.warn(\n",
      "Bootstrap Repetitions    :  70%|▋| 14/20 [10:07:23<4:19:13, 2592.21s/it, max_LL=/home/tomoe/anaconda3/envs/2507DenguePy/lib/python3.13/site-packages/stepmix/stepmix.py:968: ConvergenceWarning: Initializations did not converge. Try different init parameters, or increase max_iter, abs_tol, rel_tol or check for degenerate data.\n",
      "  warnings.warn(\n",
      "Bootstrap Repetitions    :  75%|▊| 15/20 [10:51:46<3:37:48, 2613.67s/it, max_LL=/home/tomoe/anaconda3/envs/2507DenguePy/lib/python3.13/site-packages/stepmix/stepmix.py:968: ConvergenceWarning: Initializations did not converge. Try different init parameters, or increase max_iter, abs_tol, rel_tol or check for degenerate data.\n",
      "  warnings.warn(\n",
      "Bootstrap Repetitions    :  80%|▊| 16/20 [11:35:05<2:53:56, 2609.16s/it, max_LL=/home/tomoe/anaconda3/envs/2507DenguePy/lib/python3.13/site-packages/stepmix/stepmix.py:968: ConvergenceWarning: Initializations did not converge. Try different init parameters, or increase max_iter, abs_tol, rel_tol or check for degenerate data.\n",
      "  warnings.warn(\n",
      "Bootstrap Repetitions    :  85%|▊| 17/20 [12:16:29<2:08:34, 2571.46s/it, max_LL=/home/tomoe/anaconda3/envs/2507DenguePy/lib/python3.13/site-packages/stepmix/stepmix.py:968: ConvergenceWarning: Initializations did not converge. Try different init parameters, or increase max_iter, abs_tol, rel_tol or check for degenerate data.\n",
      "  warnings.warn(\n",
      "Bootstrap Repetitions    :  90%|▉| 18/20 [12:57:47<1:24:47, 2543.65s/it, max_LL=/home/tomoe/anaconda3/envs/2507DenguePy/lib/python3.13/site-packages/stepmix/stepmix.py:968: ConvergenceWarning: Initializations did not converge. Try different init parameters, or increase max_iter, abs_tol, rel_tol or check for degenerate data.\n",
      "  warnings.warn(\n",
      "Bootstrap Repetitions    :  95%|▉| 19/20 [13:39:09<42:05, 2525.05s/it, max_LL=-1/home/tomoe/anaconda3/envs/2507DenguePy/lib/python3.13/site-packages/stepmix/stepmix.py:968: ConvergenceWarning: Initializations did not converge. Try different init parameters, or increase max_iter, abs_tol, rel_tol or check for degenerate data.\n",
      "  warnings.warn(\n",
      "Bootstrap Repetitions    : 100%|█| 20/20 [14:20:36<00:00, 2581.80s/it, max_LL=-1\n"
     ]
    },
    {
     "name": "stdout",
     "output_type": "stream",
     "text": [
      "\n",
      "Bootstrapping alternative model...\n",
      "\n",
      "Bootstrapping estimator...\n"
     ]
    },
    {
     "name": "stderr",
     "output_type": "stream",
     "text": [
      "Bootstrap Repetitions    :   0%|                         | 0/20 [00:00<?, ?it/s]/home/tomoe/anaconda3/envs/2507DenguePy/lib/python3.13/site-packages/stepmix/stepmix.py:968: ConvergenceWarning: Initializations did not converge. Try different init parameters, or increase max_iter, abs_tol, rel_tol or check for degenerate data.\n",
      "  warnings.warn(\n",
      "Bootstrap Repetitions    :   5%| | 1/20 [42:27<13:26:40, 2547.42s/it, max_LL=-1./home/tomoe/anaconda3/envs/2507DenguePy/lib/python3.13/site-packages/stepmix/stepmix.py:968: ConvergenceWarning: Initializations did not converge. Try different init parameters, or increase max_iter, abs_tol, rel_tol or check for degenerate data.\n",
      "  warnings.warn(\n",
      "Bootstrap Repetitions    :  10%| | 2/20 [1:24:24<12:38:53, 2529.65s/it, max_LL=-/home/tomoe/anaconda3/envs/2507DenguePy/lib/python3.13/site-packages/stepmix/stepmix.py:968: ConvergenceWarning: Initializations did not converge. Try different init parameters, or increase max_iter, abs_tol, rel_tol or check for degenerate data.\n",
      "  warnings.warn(\n",
      "Bootstrap Repetitions    :  15%|▏| 3/20 [2:06:17<11:54:32, 2521.92s/it, max_LL=-/home/tomoe/anaconda3/envs/2507DenguePy/lib/python3.13/site-packages/stepmix/stepmix.py:968: ConvergenceWarning: Initializations did not converge. Try different init parameters, or increase max_iter, abs_tol, rel_tol or check for degenerate data.\n",
      "  warnings.warn(\n",
      "Bootstrap Repetitions    :  20%|▏| 4/20 [2:48:00<11:10:31, 2514.48s/it, max_LL=-/home/tomoe/anaconda3/envs/2507DenguePy/lib/python3.13/site-packages/stepmix/stepmix.py:968: ConvergenceWarning: Initializations did not converge. Try different init parameters, or increase max_iter, abs_tol, rel_tol or check for degenerate data.\n",
      "  warnings.warn(\n",
      "Bootstrap Repetitions    :  25%|▎| 5/20 [3:29:50<10:28:12, 2512.86s/it, max_LL=-/home/tomoe/anaconda3/envs/2507DenguePy/lib/python3.13/site-packages/stepmix/stepmix.py:968: ConvergenceWarning: Initializations did not converge. Try different init parameters, or increase max_iter, abs_tol, rel_tol or check for degenerate data.\n",
      "  warnings.warn(\n",
      "Bootstrap Repetitions    :  30%|▎| 6/20 [4:11:35<9:45:40, 2510.06s/it, max_LL=-1/home/tomoe/anaconda3/envs/2507DenguePy/lib/python3.13/site-packages/stepmix/stepmix.py:968: ConvergenceWarning: Initializations did not converge. Try different init parameters, or increase max_iter, abs_tol, rel_tol or check for degenerate data.\n",
      "  warnings.warn(\n",
      "Bootstrap Repetitions    :  35%|▎| 7/20 [4:53:14<9:03:05, 2506.60s/it, max_LL=-1/home/tomoe/anaconda3/envs/2507DenguePy/lib/python3.13/site-packages/stepmix/stepmix.py:968: ConvergenceWarning: Initializations did not converge. Try different init parameters, or increase max_iter, abs_tol, rel_tol or check for degenerate data.\n",
      "  warnings.warn(\n",
      "Bootstrap Repetitions    :  40%|▍| 8/20 [5:34:53<8:20:48, 2504.03s/it, max_LL=-1/home/tomoe/anaconda3/envs/2507DenguePy/lib/python3.13/site-packages/stepmix/stepmix.py:968: ConvergenceWarning: Initializations did not converge. Try different init parameters, or increase max_iter, abs_tol, rel_tol or check for degenerate data.\n",
      "  warnings.warn(\n",
      "Bootstrap Repetitions    :  45%|▍| 9/20 [6:16:48<7:39:42, 2507.46s/it, max_LL=-1/home/tomoe/anaconda3/envs/2507DenguePy/lib/python3.13/site-packages/stepmix/stepmix.py:968: ConvergenceWarning: Initializations did not converge. Try different init parameters, or increase max_iter, abs_tol, rel_tol or check for degenerate data.\n",
      "  warnings.warn(\n",
      "Bootstrap Repetitions    :  50%|▌| 10/20 [6:58:07<6:56:27, 2498.80s/it, max_LL=-/home/tomoe/anaconda3/envs/2507DenguePy/lib/python3.13/site-packages/stepmix/stepmix.py:968: ConvergenceWarning: Initializations did not converge. Try different init parameters, or increase max_iter, abs_tol, rel_tol or check for degenerate data.\n",
      "  warnings.warn(\n",
      "Bootstrap Repetitions    :  55%|▌| 11/20 [7:40:06<6:15:45, 2505.03s/it, max_LL=-/home/tomoe/anaconda3/envs/2507DenguePy/lib/python3.13/site-packages/stepmix/stepmix.py:968: ConvergenceWarning: Initializations did not converge. Try different init parameters, or increase max_iter, abs_tol, rel_tol or check for degenerate data.\n",
      "  warnings.warn(\n",
      "Bootstrap Repetitions    :  60%|▌| 12/20 [8:21:42<5:33:37, 2502.22s/it, max_LL=-/home/tomoe/anaconda3/envs/2507DenguePy/lib/python3.13/site-packages/stepmix/stepmix.py:968: ConvergenceWarning: Initializations did not converge. Try different init parameters, or increase max_iter, abs_tol, rel_tol or check for degenerate data.\n",
      "  warnings.warn(\n",
      "Bootstrap Repetitions    :  65%|▋| 13/20 [9:03:22<4:51:51, 2501.69s/it, max_LL=-/home/tomoe/anaconda3/envs/2507DenguePy/lib/python3.13/site-packages/stepmix/stepmix.py:968: ConvergenceWarning: Initializations did not converge. Try different init parameters, or increase max_iter, abs_tol, rel_tol or check for degenerate data.\n",
      "  warnings.warn(\n",
      "Bootstrap Repetitions    :  70%|▋| 14/20 [9:44:55<4:09:52, 2498.82s/it, max_LL=-/home/tomoe/anaconda3/envs/2507DenguePy/lib/python3.13/site-packages/stepmix/stepmix.py:968: ConvergenceWarning: Initializations did not converge. Try different init parameters, or increase max_iter, abs_tol, rel_tol or check for degenerate data.\n",
      "  warnings.warn(\n",
      "Bootstrap Repetitions    :  75%|▊| 15/20 [10:26:35<3:28:16, 2499.35s/it, max_LL=/home/tomoe/anaconda3/envs/2507DenguePy/lib/python3.13/site-packages/stepmix/stepmix.py:968: ConvergenceWarning: Initializations did not converge. Try different init parameters, or increase max_iter, abs_tol, rel_tol or check for degenerate data.\n",
      "  warnings.warn(\n",
      "Bootstrap Repetitions    :  80%|▊| 16/20 [11:08:01<2:46:21, 2495.40s/it, max_LL=/home/tomoe/anaconda3/envs/2507DenguePy/lib/python3.13/site-packages/stepmix/stepmix.py:968: ConvergenceWarning: Initializations did not converge. Try different init parameters, or increase max_iter, abs_tol, rel_tol or check for degenerate data.\n",
      "  warnings.warn(\n",
      "Bootstrap Repetitions    :  85%|▊| 17/20 [11:49:53<2:05:01, 2500.38s/it, max_LL=/home/tomoe/anaconda3/envs/2507DenguePy/lib/python3.13/site-packages/stepmix/stepmix.py:968: ConvergenceWarning: Initializations did not converge. Try different init parameters, or increase max_iter, abs_tol, rel_tol or check for degenerate data.\n",
      "  warnings.warn(\n",
      "Bootstrap Repetitions    :  90%|▉| 18/20 [12:31:19<1:23:11, 2495.86s/it, max_LL=/home/tomoe/anaconda3/envs/2507DenguePy/lib/python3.13/site-packages/stepmix/stepmix.py:968: ConvergenceWarning: Initializations did not converge. Try different init parameters, or increase max_iter, abs_tol, rel_tol or check for degenerate data.\n",
      "  warnings.warn(\n",
      "Bootstrap Repetitions    :  95%|▉| 19/20 [13:16:09<42:34, 2554.12s/it, max_LL=-1/home/tomoe/anaconda3/envs/2507DenguePy/lib/python3.13/site-packages/stepmix/stepmix.py:968: ConvergenceWarning: Initializations did not converge. Try different init parameters, or increase max_iter, abs_tol, rel_tol or check for degenerate data.\n",
      "  warnings.warn(\n",
      "Bootstrap Repetitions    : 100%|█| 20/20 [14:04:49<00:00, 2534.47s/it, max_LL=-1\n"
     ]
    },
    {
     "name": "stdout",
     "output_type": "stream",
     "text": [
      "Testing 23 vs. 24 classes...\n"
     ]
    },
    {
     "name": "stderr",
     "output_type": "stream",
     "text": [
      "/home/tomoe/anaconda3/envs/2507DenguePy/lib/python3.13/site-packages/stepmix/stepmix.py:968: ConvergenceWarning: Initializations did not converge. Try different init parameters, or increase max_iter, abs_tol, rel_tol or check for degenerate data.\n",
      "  warnings.warn(\n",
      "/home/tomoe/anaconda3/envs/2507DenguePy/lib/python3.13/site-packages/stepmix/stepmix.py:968: ConvergenceWarning: Initializations did not converge. Try different init parameters, or increase max_iter, abs_tol, rel_tol or check for degenerate data.\n",
      "  warnings.warn(\n"
     ]
    },
    {
     "name": "stdout",
     "output_type": "stream",
     "text": [
      "Bootstrapping null model...\n",
      "\n",
      "Bootstrapping estimator...\n"
     ]
    },
    {
     "name": "stderr",
     "output_type": "stream",
     "text": [
      "Bootstrap Repetitions    :   0%|                         | 0/20 [00:00<?, ?it/s]/home/tomoe/anaconda3/envs/2507DenguePy/lib/python3.13/site-packages/stepmix/stepmix.py:968: ConvergenceWarning: Initializations did not converge. Try different init parameters, or increase max_iter, abs_tol, rel_tol or check for degenerate data.\n",
      "  warnings.warn(\n",
      "Bootstrap Repetitions    :   5%| | 1/20 [50:39<16:02:36, 3039.83s/it, max_LL=-1./home/tomoe/anaconda3/envs/2507DenguePy/lib/python3.13/site-packages/stepmix/stepmix.py:968: ConvergenceWarning: Initializations did not converge. Try different init parameters, or increase max_iter, abs_tol, rel_tol or check for degenerate data.\n",
      "  warnings.warn(\n",
      "Bootstrap Repetitions    :  10%| | 2/20 [1:41:15<15:11:16, 3037.56s/it, max_LL=-/home/tomoe/anaconda3/envs/2507DenguePy/lib/python3.13/site-packages/stepmix/stepmix.py:968: ConvergenceWarning: Initializations did not converge. Try different init parameters, or increase max_iter, abs_tol, rel_tol or check for degenerate data.\n",
      "  warnings.warn(\n",
      "Bootstrap Repetitions    :  15%|▏| 3/20 [2:27:27<13:46:15, 2916.19s/it, max_LL=-/home/tomoe/anaconda3/envs/2507DenguePy/lib/python3.13/site-packages/stepmix/stepmix.py:968: ConvergenceWarning: Initializations did not converge. Try different init parameters, or increase max_iter, abs_tol, rel_tol or check for degenerate data.\n",
      "  warnings.warn(\n",
      "Bootstrap Repetitions    :  20%|▏| 4/20 [3:13:34<12:41:56, 2857.26s/it, max_LL=-/home/tomoe/anaconda3/envs/2507DenguePy/lib/python3.13/site-packages/stepmix/stepmix.py:968: ConvergenceWarning: Initializations did not converge. Try different init parameters, or increase max_iter, abs_tol, rel_tol or check for degenerate data.\n",
      "  warnings.warn(\n",
      "Bootstrap Repetitions    :  25%|▎| 5/20 [3:59:26<11:44:48, 2819.23s/it, max_LL=-/home/tomoe/anaconda3/envs/2507DenguePy/lib/python3.13/site-packages/stepmix/stepmix.py:968: ConvergenceWarning: Initializations did not converge. Try different init parameters, or increase max_iter, abs_tol, rel_tol or check for degenerate data.\n",
      "  warnings.warn(\n",
      "Bootstrap Repetitions    :  30%|▎| 6/20 [4:45:26<10:53:07, 2799.12s/it, max_LL=-/home/tomoe/anaconda3/envs/2507DenguePy/lib/python3.13/site-packages/stepmix/stepmix.py:968: ConvergenceWarning: Initializations did not converge. Try different init parameters, or increase max_iter, abs_tol, rel_tol or check for degenerate data.\n",
      "  warnings.warn(\n",
      "Bootstrap Repetitions    :  35%|▎| 7/20 [5:31:15<10:02:58, 2782.94s/it, max_LL=-/home/tomoe/anaconda3/envs/2507DenguePy/lib/python3.13/site-packages/stepmix/stepmix.py:968: ConvergenceWarning: Initializations did not converge. Try different init parameters, or increase max_iter, abs_tol, rel_tol or check for degenerate data.\n",
      "  warnings.warn(\n",
      "Bootstrap Repetitions    :  40%|▍| 8/20 [6:17:10<9:14:46, 2773.90s/it, max_LL=-1/home/tomoe/anaconda3/envs/2507DenguePy/lib/python3.13/site-packages/stepmix/stepmix.py:968: ConvergenceWarning: Initializations did not converge. Try different init parameters, or increase max_iter, abs_tol, rel_tol or check for degenerate data.\n",
      "  warnings.warn(\n",
      "Bootstrap Repetitions    :  45%|▍| 9/20 [7:03:10<8:27:43, 2769.43s/it, max_LL=-1/home/tomoe/anaconda3/envs/2507DenguePy/lib/python3.13/site-packages/stepmix/stepmix.py:968: ConvergenceWarning: Initializations did not converge. Try different init parameters, or increase max_iter, abs_tol, rel_tol or check for degenerate data.\n",
      "  warnings.warn(\n",
      "Bootstrap Repetitions    :  50%|▌| 10/20 [7:48:43<7:39:43, 2758.39s/it, max_LL=-/home/tomoe/anaconda3/envs/2507DenguePy/lib/python3.13/site-packages/stepmix/stepmix.py:968: ConvergenceWarning: Initializations did not converge. Try different init parameters, or increase max_iter, abs_tol, rel_tol or check for degenerate data.\n",
      "  warnings.warn(\n",
      "Bootstrap Repetitions    :  55%|▌| 11/20 [8:34:55<6:54:23, 2762.58s/it, max_LL=-/home/tomoe/anaconda3/envs/2507DenguePy/lib/python3.13/site-packages/stepmix/stepmix.py:968: ConvergenceWarning: Initializations did not converge. Try different init parameters, or increase max_iter, abs_tol, rel_tol or check for degenerate data.\n",
      "  warnings.warn(\n",
      "Bootstrap Repetitions    :  60%|▌| 12/20 [9:21:17<6:09:06, 2768.26s/it, max_LL=-/home/tomoe/anaconda3/envs/2507DenguePy/lib/python3.13/site-packages/stepmix/stepmix.py:968: ConvergenceWarning: Initializations did not converge. Try different init parameters, or increase max_iter, abs_tol, rel_tol or check for degenerate data.\n",
      "  warnings.warn(\n",
      "Bootstrap Repetitions    :  65%|▋| 13/20 [10:07:18<5:22:43, 2766.23s/it, max_LL=/home/tomoe/anaconda3/envs/2507DenguePy/lib/python3.13/site-packages/stepmix/stepmix.py:968: ConvergenceWarning: Initializations did not converge. Try different init parameters, or increase max_iter, abs_tol, rel_tol or check for degenerate data.\n",
      "  warnings.warn(\n",
      "Bootstrap Repetitions    :  70%|▋| 14/20 [10:53:14<4:36:18, 2763.16s/it, max_LL=/home/tomoe/anaconda3/envs/2507DenguePy/lib/python3.13/site-packages/stepmix/stepmix.py:968: ConvergenceWarning: Initializations did not converge. Try different init parameters, or increase max_iter, abs_tol, rel_tol or check for degenerate data.\n",
      "  warnings.warn(\n",
      "Bootstrap Repetitions    :  75%|▊| 15/20 [11:39:14<3:50:10, 2762.18s/it, max_LL=/home/tomoe/anaconda3/envs/2507DenguePy/lib/python3.13/site-packages/stepmix/stepmix.py:968: ConvergenceWarning: Initializations did not converge. Try different init parameters, or increase max_iter, abs_tol, rel_tol or check for degenerate data.\n",
      "  warnings.warn(\n",
      "Bootstrap Repetitions    :  80%|▊| 16/20 [12:25:02<3:03:51, 2757.84s/it, max_LL=/home/tomoe/anaconda3/envs/2507DenguePy/lib/python3.13/site-packages/stepmix/stepmix.py:968: ConvergenceWarning: Initializations did not converge. Try different init parameters, or increase max_iter, abs_tol, rel_tol or check for degenerate data.\n",
      "  warnings.warn(\n",
      "Bootstrap Repetitions    :  85%|▊| 17/20 [13:11:12<2:18:04, 2761.58s/it, max_LL=/home/tomoe/anaconda3/envs/2507DenguePy/lib/python3.13/site-packages/stepmix/stepmix.py:968: ConvergenceWarning: Initializations did not converge. Try different init parameters, or increase max_iter, abs_tol, rel_tol or check for degenerate data.\n",
      "  warnings.warn(\n",
      "Bootstrap Repetitions    :  90%|▉| 18/20 [13:57:05<1:31:57, 2758.95s/it, max_LL=/home/tomoe/anaconda3/envs/2507DenguePy/lib/python3.13/site-packages/stepmix/stepmix.py:968: ConvergenceWarning: Initializations did not converge. Try different init parameters, or increase max_iter, abs_tol, rel_tol or check for degenerate data.\n",
      "  warnings.warn(\n",
      "Bootstrap Repetitions    :  95%|▉| 19/20 [14:42:54<45:55, 2755.97s/it, max_LL=-1/home/tomoe/anaconda3/envs/2507DenguePy/lib/python3.13/site-packages/stepmix/stepmix.py:968: ConvergenceWarning: Initializations did not converge. Try different init parameters, or increase max_iter, abs_tol, rel_tol or check for degenerate data.\n",
      "  warnings.warn(\n",
      "Bootstrap Repetitions    : 100%|█| 20/20 [15:28:46<00:00, 2786.35s/it, max_LL=-1\n"
     ]
    },
    {
     "name": "stdout",
     "output_type": "stream",
     "text": [
      "\n",
      "Bootstrapping alternative model...\n",
      "\n",
      "Bootstrapping estimator...\n"
     ]
    },
    {
     "name": "stderr",
     "output_type": "stream",
     "text": [
      "Bootstrap Repetitions    :   0%|                         | 0/20 [00:00<?, ?it/s]/home/tomoe/anaconda3/envs/2507DenguePy/lib/python3.13/site-packages/stepmix/stepmix.py:968: ConvergenceWarning: Initializations did not converge. Try different init parameters, or increase max_iter, abs_tol, rel_tol or check for degenerate data.\n",
      "  warnings.warn(\n",
      "Bootstrap Repetitions    :   5%| | 1/20 [46:28<14:43:04, 2788.66s/it, max_LL=-1./home/tomoe/anaconda3/envs/2507DenguePy/lib/python3.13/site-packages/stepmix/stepmix.py:968: ConvergenceWarning: Initializations did not converge. Try different init parameters, or increase max_iter, abs_tol, rel_tol or check for degenerate data.\n",
      "  warnings.warn(\n",
      "Bootstrap Repetitions    :  10%| | 2/20 [1:32:48<13:55:05, 2783.64s/it, max_LL=-/home/tomoe/anaconda3/envs/2507DenguePy/lib/python3.13/site-packages/stepmix/stepmix.py:968: ConvergenceWarning: Initializations did not converge. Try different init parameters, or increase max_iter, abs_tol, rel_tol or check for degenerate data.\n",
      "  warnings.warn(\n",
      "Bootstrap Repetitions    :  15%|▏| 3/20 [2:19:46<13:13:09, 2799.37s/it, max_LL=-/home/tomoe/anaconda3/envs/2507DenguePy/lib/python3.13/site-packages/stepmix/stepmix.py:968: ConvergenceWarning: Initializations did not converge. Try different init parameters, or increase max_iter, abs_tol, rel_tol or check for degenerate data.\n",
      "  warnings.warn(\n",
      "Bootstrap Repetitions    :  20%|▏| 4/20 [3:06:11<12:24:58, 2793.64s/it, max_LL=-/home/tomoe/anaconda3/envs/2507DenguePy/lib/python3.13/site-packages/stepmix/stepmix.py:968: ConvergenceWarning: Initializations did not converge. Try different init parameters, or increase max_iter, abs_tol, rel_tol or check for degenerate data.\n",
      "  warnings.warn(\n",
      "Bootstrap Repetitions    :  25%|▎| 5/20 [3:53:04<11:40:09, 2800.67s/it, max_LL=-/home/tomoe/anaconda3/envs/2507DenguePy/lib/python3.13/site-packages/stepmix/stepmix.py:968: ConvergenceWarning: Initializations did not converge. Try different init parameters, or increase max_iter, abs_tol, rel_tol or check for degenerate data.\n",
      "  warnings.warn(\n",
      "Bootstrap Repetitions    :  30%|▎| 6/20 [4:39:45<10:53:26, 2800.50s/it, max_LL=-/home/tomoe/anaconda3/envs/2507DenguePy/lib/python3.13/site-packages/stepmix/stepmix.py:968: ConvergenceWarning: Initializations did not converge. Try different init parameters, or increase max_iter, abs_tol, rel_tol or check for degenerate data.\n",
      "  warnings.warn(\n",
      "Bootstrap Repetitions    :  35%|▎| 7/20 [5:26:51<10:08:37, 2809.07s/it, max_LL=-/home/tomoe/anaconda3/envs/2507DenguePy/lib/python3.13/site-packages/stepmix/stepmix.py:968: ConvergenceWarning: Initializations did not converge. Try different init parameters, or increase max_iter, abs_tol, rel_tol or check for degenerate data.\n",
      "  warnings.warn(\n",
      "Bootstrap Repetitions    :  40%|▍| 8/20 [6:13:16<9:20:14, 2801.21s/it, max_LL=-1/home/tomoe/anaconda3/envs/2507DenguePy/lib/python3.13/site-packages/stepmix/stepmix.py:968: ConvergenceWarning: Initializations did not converge. Try different init parameters, or increase max_iter, abs_tol, rel_tol or check for degenerate data.\n",
      "  warnings.warn(\n",
      "Bootstrap Repetitions    :  45%|▍| 9/20 [7:00:34<8:35:42, 2812.98s/it, max_LL=-1/home/tomoe/anaconda3/envs/2507DenguePy/lib/python3.13/site-packages/stepmix/stepmix.py:968: ConvergenceWarning: Initializations did not converge. Try different init parameters, or increase max_iter, abs_tol, rel_tol or check for degenerate data.\n",
      "  warnings.warn(\n",
      "Bootstrap Repetitions    :  50%|▌| 10/20 [7:47:00<7:47:25, 2804.57s/it, max_LL=-/home/tomoe/anaconda3/envs/2507DenguePy/lib/python3.13/site-packages/stepmix/stepmix.py:968: ConvergenceWarning: Initializations did not converge. Try different init parameters, or increase max_iter, abs_tol, rel_tol or check for degenerate data.\n",
      "  warnings.warn(\n",
      "Bootstrap Repetitions    :  55%|▌| 11/20 [8:33:55<7:01:10, 2807.83s/it, max_LL=-/home/tomoe/anaconda3/envs/2507DenguePy/lib/python3.13/site-packages/stepmix/stepmix.py:968: ConvergenceWarning: Initializations did not converge. Try different init parameters, or increase max_iter, abs_tol, rel_tol or check for degenerate data.\n",
      "  warnings.warn(\n",
      "Bootstrap Repetitions    :  60%|▌| 12/20 [9:20:26<6:13:41, 2802.65s/it, max_LL=-/home/tomoe/anaconda3/envs/2507DenguePy/lib/python3.13/site-packages/stepmix/stepmix.py:968: ConvergenceWarning: Initializations did not converge. Try different init parameters, or increase max_iter, abs_tol, rel_tol or check for degenerate data.\n",
      "  warnings.warn(\n",
      "Bootstrap Repetitions    :  65%|▋| 13/20 [10:07:41<5:28:05, 2812.23s/it, max_LL=/home/tomoe/anaconda3/envs/2507DenguePy/lib/python3.13/site-packages/stepmix/stepmix.py:968: ConvergenceWarning: Initializations did not converge. Try different init parameters, or increase max_iter, abs_tol, rel_tol or check for degenerate data.\n",
      "  warnings.warn(\n",
      "Bootstrap Repetitions    :  70%|▋| 14/20 [10:53:58<4:40:10, 2801.79s/it, max_LL=/home/tomoe/anaconda3/envs/2507DenguePy/lib/python3.13/site-packages/stepmix/stepmix.py:968: ConvergenceWarning: Initializations did not converge. Try different init parameters, or increase max_iter, abs_tol, rel_tol or check for degenerate data.\n",
      "  warnings.warn(\n",
      "Bootstrap Repetitions    :  75%|▊| 15/20 [11:40:43<3:53:33, 2802.75s/it, max_LL=/home/tomoe/anaconda3/envs/2507DenguePy/lib/python3.13/site-packages/stepmix/stepmix.py:968: ConvergenceWarning: Initializations did not converge. Try different init parameters, or increase max_iter, abs_tol, rel_tol or check for degenerate data.\n",
      "  warnings.warn(\n",
      "Bootstrap Repetitions    :  80%|▊| 16/20 [12:26:53<3:06:11, 2792.97s/it, max_LL=/home/tomoe/anaconda3/envs/2507DenguePy/lib/python3.13/site-packages/stepmix/stepmix.py:968: ConvergenceWarning: Initializations did not converge. Try different init parameters, or increase max_iter, abs_tol, rel_tol or check for degenerate data.\n",
      "  warnings.warn(\n",
      "Bootstrap Repetitions    :  85%|▊| 17/20 [13:13:27<2:19:39, 2793.01s/it, max_LL=/home/tomoe/anaconda3/envs/2507DenguePy/lib/python3.13/site-packages/stepmix/stepmix.py:968: ConvergenceWarning: Initializations did not converge. Try different init parameters, or increase max_iter, abs_tol, rel_tol or check for degenerate data.\n",
      "  warnings.warn(\n",
      "Bootstrap Repetitions    :  90%|▉| 18/20 [13:59:42<1:32:55, 2787.86s/it, max_LL=/home/tomoe/anaconda3/envs/2507DenguePy/lib/python3.13/site-packages/stepmix/stepmix.py:968: ConvergenceWarning: Initializations did not converge. Try different init parameters, or increase max_iter, abs_tol, rel_tol or check for degenerate data.\n",
      "  warnings.warn(\n",
      "Bootstrap Repetitions    :  95%|▉| 19/20 [14:46:13<46:28, 2788.64s/it, max_LL=-1/home/tomoe/anaconda3/envs/2507DenguePy/lib/python3.13/site-packages/stepmix/stepmix.py:968: ConvergenceWarning: Initializations did not converge. Try different init parameters, or increase max_iter, abs_tol, rel_tol or check for degenerate data.\n",
      "  warnings.warn(\n",
      "Bootstrap Repetitions    : 100%|█| 20/20 [15:32:31<00:00, 2797.58s/it, max_LL=-1\n"
     ]
    },
    {
     "name": "stdout",
     "output_type": "stream",
     "text": [
      "Testing 24 vs. 25 classes...\n"
     ]
    },
    {
     "name": "stderr",
     "output_type": "stream",
     "text": [
      "/home/tomoe/anaconda3/envs/2507DenguePy/lib/python3.13/site-packages/stepmix/stepmix.py:968: ConvergenceWarning: Initializations did not converge. Try different init parameters, or increase max_iter, abs_tol, rel_tol or check for degenerate data.\n",
      "  warnings.warn(\n",
      "/home/tomoe/anaconda3/envs/2507DenguePy/lib/python3.13/site-packages/stepmix/stepmix.py:968: ConvergenceWarning: Initializations did not converge. Try different init parameters, or increase max_iter, abs_tol, rel_tol or check for degenerate data.\n",
      "  warnings.warn(\n"
     ]
    },
    {
     "name": "stdout",
     "output_type": "stream",
     "text": [
      "Bootstrapping null model...\n",
      "\n",
      "Bootstrapping estimator...\n"
     ]
    },
    {
     "name": "stderr",
     "output_type": "stream",
     "text": [
      "Bootstrap Repetitions    :   0%|                         | 0/20 [00:00<?, ?it/s]/home/tomoe/anaconda3/envs/2507DenguePy/lib/python3.13/site-packages/stepmix/stepmix.py:968: ConvergenceWarning: Initializations did not converge. Try different init parameters, or increase max_iter, abs_tol, rel_tol or check for degenerate data.\n",
      "  warnings.warn(\n",
      "Bootstrap Repetitions    :   5%| | 1/20 [47:00<14:53:03, 2820.20s/it, max_LL=-1./home/tomoe/anaconda3/envs/2507DenguePy/lib/python3.13/site-packages/stepmix/stepmix.py:968: ConvergenceWarning: Initializations did not converge. Try different init parameters, or increase max_iter, abs_tol, rel_tol or check for degenerate data.\n",
      "  warnings.warn(\n",
      "Bootstrap Repetitions    :  10%| | 2/20 [1:33:20<13:58:58, 2796.61s/it, max_LL=-/home/tomoe/anaconda3/envs/2507DenguePy/lib/python3.13/site-packages/stepmix/stepmix.py:968: ConvergenceWarning: Initializations did not converge. Try different init parameters, or increase max_iter, abs_tol, rel_tol or check for degenerate data.\n",
      "  warnings.warn(\n",
      "Bootstrap Repetitions    :  15%|▏| 3/20 [2:20:00<13:12:46, 2798.04s/it, max_LL=-/home/tomoe/anaconda3/envs/2507DenguePy/lib/python3.13/site-packages/stepmix/stepmix.py:968: ConvergenceWarning: Initializations did not converge. Try different init parameters, or increase max_iter, abs_tol, rel_tol or check for degenerate data.\n",
      "  warnings.warn(\n",
      "Bootstrap Repetitions    :  20%|▏| 4/20 [3:06:30<12:25:22, 2795.16s/it, max_LL=-/home/tomoe/anaconda3/envs/2507DenguePy/lib/python3.13/site-packages/stepmix/stepmix.py:968: ConvergenceWarning: Initializations did not converge. Try different init parameters, or increase max_iter, abs_tol, rel_tol or check for degenerate data.\n",
      "  warnings.warn(\n",
      "Bootstrap Repetitions    :  25%|▎| 5/20 [3:53:06<11:38:50, 2795.38s/it, max_LL=-/home/tomoe/anaconda3/envs/2507DenguePy/lib/python3.13/site-packages/stepmix/stepmix.py:968: ConvergenceWarning: Initializations did not converge. Try different init parameters, or increase max_iter, abs_tol, rel_tol or check for degenerate data.\n",
      "  warnings.warn(\n",
      "Bootstrap Repetitions    :  30%|▎| 6/20 [4:39:26<10:50:59, 2789.98s/it, max_LL=-/home/tomoe/anaconda3/envs/2507DenguePy/lib/python3.13/site-packages/stepmix/stepmix.py:968: ConvergenceWarning: Initializations did not converge. Try different init parameters, or increase max_iter, abs_tol, rel_tol or check for degenerate data.\n",
      "  warnings.warn(\n",
      "Bootstrap Repetitions    :  35%|▎| 7/20 [5:26:14<10:05:46, 2795.89s/it, max_LL=-/home/tomoe/anaconda3/envs/2507DenguePy/lib/python3.13/site-packages/stepmix/stepmix.py:968: ConvergenceWarning: Initializations did not converge. Try different init parameters, or increase max_iter, abs_tol, rel_tol or check for degenerate data.\n",
      "  warnings.warn(\n",
      "Bootstrap Repetitions    :  40%|▍| 8/20 [6:12:34<9:18:12, 2791.04s/it, max_LL=-1/home/tomoe/anaconda3/envs/2507DenguePy/lib/python3.13/site-packages/stepmix/stepmix.py:968: ConvergenceWarning: Initializations did not converge. Try different init parameters, or increase max_iter, abs_tol, rel_tol or check for degenerate data.\n",
      "  warnings.warn(\n",
      "Bootstrap Repetitions    :  45%|▍| 9/20 [6:59:20<8:32:30, 2795.49s/it, max_LL=-1/home/tomoe/anaconda3/envs/2507DenguePy/lib/python3.13/site-packages/stepmix/stepmix.py:968: ConvergenceWarning: Initializations did not converge. Try different init parameters, or increase max_iter, abs_tol, rel_tol or check for degenerate data.\n",
      "  warnings.warn(\n",
      "Bootstrap Repetitions    :  50%|▌| 10/20 [7:45:52<7:45:46, 2794.66s/it, max_LL=-/home/tomoe/anaconda3/envs/2507DenguePy/lib/python3.13/site-packages/stepmix/stepmix.py:968: ConvergenceWarning: Initializations did not converge. Try different init parameters, or increase max_iter, abs_tol, rel_tol or check for degenerate data.\n",
      "  warnings.warn(\n",
      "Bootstrap Repetitions    :  55%|▌| 11/20 [8:32:21<6:58:55, 2792.88s/it, max_LL=-/home/tomoe/anaconda3/envs/2507DenguePy/lib/python3.13/site-packages/stepmix/stepmix.py:968: ConvergenceWarning: Initializations did not converge. Try different init parameters, or increase max_iter, abs_tol, rel_tol or check for degenerate data.\n",
      "  warnings.warn(\n",
      "Bootstrap Repetitions    :  60%|▌| 12/20 [9:18:45<6:12:01, 2790.20s/it, max_LL=-/home/tomoe/anaconda3/envs/2507DenguePy/lib/python3.13/site-packages/stepmix/stepmix.py:968: ConvergenceWarning: Initializations did not converge. Try different init parameters, or increase max_iter, abs_tol, rel_tol or check for degenerate data.\n",
      "  warnings.warn(\n",
      "Bootstrap Repetitions    :  65%|▋| 13/20 [10:05:35<5:26:13, 2796.24s/it, max_LL=/home/tomoe/anaconda3/envs/2507DenguePy/lib/python3.13/site-packages/stepmix/stepmix.py:968: ConvergenceWarning: Initializations did not converge. Try different init parameters, or increase max_iter, abs_tol, rel_tol or check for degenerate data.\n",
      "  warnings.warn(\n",
      "Bootstrap Repetitions    :  70%|▋| 14/20 [10:51:51<4:39:00, 2790.09s/it, max_LL=/home/tomoe/anaconda3/envs/2507DenguePy/lib/python3.13/site-packages/stepmix/stepmix.py:968: ConvergenceWarning: Initializations did not converge. Try different init parameters, or increase max_iter, abs_tol, rel_tol or check for degenerate data.\n",
      "  warnings.warn(\n",
      "Bootstrap Repetitions    :  75%|▊| 15/20 [11:38:28<3:52:40, 2792.16s/it, max_LL=/home/tomoe/anaconda3/envs/2507DenguePy/lib/python3.13/site-packages/stepmix/stepmix.py:968: ConvergenceWarning: Initializations did not converge. Try different init parameters, or increase max_iter, abs_tol, rel_tol or check for degenerate data.\n",
      "  warnings.warn(\n",
      "Bootstrap Repetitions    :  80%|▊| 16/20 [12:24:58<3:06:05, 2791.38s/it, max_LL=/home/tomoe/anaconda3/envs/2507DenguePy/lib/python3.13/site-packages/stepmix/stepmix.py:968: ConvergenceWarning: Initializations did not converge. Try different init parameters, or increase max_iter, abs_tol, rel_tol or check for degenerate data.\n",
      "  warnings.warn(\n",
      "Bootstrap Repetitions    :  85%|▊| 17/20 [13:11:31<2:19:35, 2791.83s/it, max_LL=/home/tomoe/anaconda3/envs/2507DenguePy/lib/python3.13/site-packages/stepmix/stepmix.py:968: ConvergenceWarning: Initializations did not converge. Try different init parameters, or increase max_iter, abs_tol, rel_tol or check for degenerate data.\n",
      "  warnings.warn(\n",
      "Bootstrap Repetitions    :  90%|▉| 18/20 [13:57:55<1:32:59, 2789.55s/it, max_LL=/home/tomoe/anaconda3/envs/2507DenguePy/lib/python3.13/site-packages/stepmix/stepmix.py:968: ConvergenceWarning: Initializations did not converge. Try different init parameters, or increase max_iter, abs_tol, rel_tol or check for degenerate data.\n",
      "  warnings.warn(\n",
      "Bootstrap Repetitions    :  95%|▉| 19/20 [14:44:28<46:30, 2790.52s/it, max_LL=-1/home/tomoe/anaconda3/envs/2507DenguePy/lib/python3.13/site-packages/stepmix/stepmix.py:968: ConvergenceWarning: Initializations did not converge. Try different init parameters, or increase max_iter, abs_tol, rel_tol or check for degenerate data.\n",
      "  warnings.warn(\n",
      "Bootstrap Repetitions    : 100%|█| 20/20 [15:30:48<00:00, 2792.42s/it, max_LL=-1\n"
     ]
    },
    {
     "name": "stdout",
     "output_type": "stream",
     "text": [
      "\n",
      "Bootstrapping alternative model...\n",
      "\n",
      "Bootstrapping estimator...\n"
     ]
    },
    {
     "name": "stderr",
     "output_type": "stream",
     "text": [
      "Bootstrap Repetitions    :   0%|                         | 0/20 [00:00<?, ?it/s]/home/tomoe/anaconda3/envs/2507DenguePy/lib/python3.13/site-packages/stepmix/stepmix.py:968: ConvergenceWarning: Initializations did not converge. Try different init parameters, or increase max_iter, abs_tol, rel_tol or check for degenerate data.\n",
      "  warnings.warn(\n",
      "Bootstrap Repetitions    :   5%| | 1/20 [48:34<15:22:52, 2914.34s/it, max_LL=-1./home/tomoe/anaconda3/envs/2507DenguePy/lib/python3.13/site-packages/stepmix/stepmix.py:968: ConvergenceWarning: Initializations did not converge. Try different init parameters, or increase max_iter, abs_tol, rel_tol or check for degenerate data.\n",
      "  warnings.warn(\n",
      "Bootstrap Repetitions    :  10%| | 2/20 [1:36:49<14:30:57, 2903.21s/it, max_LL=-/home/tomoe/anaconda3/envs/2507DenguePy/lib/python3.13/site-packages/stepmix/stepmix.py:968: ConvergenceWarning: Initializations did not converge. Try different init parameters, or increase max_iter, abs_tol, rel_tol or check for degenerate data.\n",
      "  warnings.warn(\n",
      "Bootstrap Repetitions    :  15%|▏| 3/20 [2:25:28<13:44:33, 2910.20s/it, max_LL=-/home/tomoe/anaconda3/envs/2507DenguePy/lib/python3.13/site-packages/stepmix/stepmix.py:968: ConvergenceWarning: Initializations did not converge. Try different init parameters, or increase max_iter, abs_tol, rel_tol or check for degenerate data.\n",
      "  warnings.warn(\n",
      "Bootstrap Repetitions    :  20%|▏| 4/20 [3:13:53<12:55:29, 2908.11s/it, max_LL=-/home/tomoe/anaconda3/envs/2507DenguePy/lib/python3.13/site-packages/stepmix/stepmix.py:968: ConvergenceWarning: Initializations did not converge. Try different init parameters, or increase max_iter, abs_tol, rel_tol or check for degenerate data.\n",
      "  warnings.warn(\n",
      "Bootstrap Repetitions    :  25%|▎| 5/20 [4:02:10<12:06:01, 2904.10s/it, max_LL=-/home/tomoe/anaconda3/envs/2507DenguePy/lib/python3.13/site-packages/stepmix/stepmix.py:968: ConvergenceWarning: Initializations did not converge. Try different init parameters, or increase max_iter, abs_tol, rel_tol or check for degenerate data.\n",
      "  warnings.warn(\n",
      "Bootstrap Repetitions    :  30%|▎| 6/20 [4:50:31<11:17:25, 2903.23s/it, max_LL=-/home/tomoe/anaconda3/envs/2507DenguePy/lib/python3.13/site-packages/stepmix/stepmix.py:968: ConvergenceWarning: Initializations did not converge. Try different init parameters, or increase max_iter, abs_tol, rel_tol or check for degenerate data.\n",
      "  warnings.warn(\n",
      "Bootstrap Repetitions    :  35%|▎| 7/20 [5:39:49<10:32:55, 2921.19s/it, max_LL=-/home/tomoe/anaconda3/envs/2507DenguePy/lib/python3.13/site-packages/stepmix/stepmix.py:968: ConvergenceWarning: Initializations did not converge. Try different init parameters, or increase max_iter, abs_tol, rel_tol or check for degenerate data.\n",
      "  warnings.warn(\n",
      "Bootstrap Repetitions    :  40%|▍| 8/20 [6:22:54<9:22:49, 2814.14s/it, max_LL=-1/home/tomoe/anaconda3/envs/2507DenguePy/lib/python3.13/site-packages/stepmix/stepmix.py:968: ConvergenceWarning: Initializations did not converge. Try different init parameters, or increase max_iter, abs_tol, rel_tol or check for degenerate data.\n",
      "  warnings.warn(\n",
      "Bootstrap Repetitions    :  45%|▍| 9/20 [7:05:39<8:21:36, 2736.09s/it, max_LL=-1/home/tomoe/anaconda3/envs/2507DenguePy/lib/python3.13/site-packages/stepmix/stepmix.py:968: ConvergenceWarning: Initializations did not converge. Try different init parameters, or increase max_iter, abs_tol, rel_tol or check for degenerate data.\n",
      "  warnings.warn(\n",
      "Bootstrap Repetitions    :  50%|▌| 10/20 [7:48:37<7:27:55, 2687.51s/it, max_LL=-/home/tomoe/anaconda3/envs/2507DenguePy/lib/python3.13/site-packages/stepmix/stepmix.py:968: ConvergenceWarning: Initializations did not converge. Try different init parameters, or increase max_iter, abs_tol, rel_tol or check for degenerate data.\n",
      "  warnings.warn(\n",
      "Bootstrap Repetitions    :  55%|▌| 11/20 [8:31:10<6:36:56, 2646.32s/it, max_LL=-/home/tomoe/anaconda3/envs/2507DenguePy/lib/python3.13/site-packages/stepmix/stepmix.py:968: ConvergenceWarning: Initializations did not converge. Try different init parameters, or increase max_iter, abs_tol, rel_tol or check for degenerate data.\n",
      "  warnings.warn(\n",
      "Bootstrap Repetitions    :  60%|▌| 12/20 [9:13:47<5:49:13, 2619.14s/it, max_LL=-/home/tomoe/anaconda3/envs/2507DenguePy/lib/python3.13/site-packages/stepmix/stepmix.py:968: ConvergenceWarning: Initializations did not converge. Try different init parameters, or increase max_iter, abs_tol, rel_tol or check for degenerate data.\n",
      "  warnings.warn(\n",
      "Bootstrap Repetitions    :  65%|▋| 13/20 [9:56:39<5:03:52, 2604.71s/it, max_LL=-/home/tomoe/anaconda3/envs/2507DenguePy/lib/python3.13/site-packages/stepmix/stepmix.py:968: ConvergenceWarning: Initializations did not converge. Try different init parameters, or increase max_iter, abs_tol, rel_tol or check for degenerate data.\n",
      "  warnings.warn(\n",
      "Bootstrap Repetitions    :  70%|▋| 14/20 [10:39:52<4:20:06, 2601.07s/it, max_LL=/home/tomoe/anaconda3/envs/2507DenguePy/lib/python3.13/site-packages/stepmix/stepmix.py:968: ConvergenceWarning: Initializations did not converge. Try different init parameters, or increase max_iter, abs_tol, rel_tol or check for degenerate data.\n",
      "  warnings.warn(\n",
      "Bootstrap Repetitions    :  75%|▊| 15/20 [11:22:42<3:35:59, 2591.86s/it, max_LL=/home/tomoe/anaconda3/envs/2507DenguePy/lib/python3.13/site-packages/stepmix/stepmix.py:968: ConvergenceWarning: Initializations did not converge. Try different init parameters, or increase max_iter, abs_tol, rel_tol or check for degenerate data.\n",
      "  warnings.warn(\n",
      "Bootstrap Repetitions    :  80%|▊| 16/20 [12:05:48<2:52:40, 2590.12s/it, max_LL=/home/tomoe/anaconda3/envs/2507DenguePy/lib/python3.13/site-packages/stepmix/stepmix.py:968: ConvergenceWarning: Initializations did not converge. Try different init parameters, or increase max_iter, abs_tol, rel_tol or check for degenerate data.\n",
      "  warnings.warn(\n",
      "Bootstrap Repetitions    :  85%|▊| 17/20 [12:48:59<2:09:30, 2590.31s/it, max_LL=/home/tomoe/anaconda3/envs/2507DenguePy/lib/python3.13/site-packages/stepmix/stepmix.py:968: ConvergenceWarning: Initializations did not converge. Try different init parameters, or increase max_iter, abs_tol, rel_tol or check for degenerate data.\n",
      "  warnings.warn(\n",
      "Bootstrap Repetitions    :  90%|▉| 18/20 [13:31:45<1:26:06, 2583.01s/it, max_LL=/home/tomoe/anaconda3/envs/2507DenguePy/lib/python3.13/site-packages/stepmix/stepmix.py:968: ConvergenceWarning: Initializations did not converge. Try different init parameters, or increase max_iter, abs_tol, rel_tol or check for degenerate data.\n",
      "  warnings.warn(\n",
      "Bootstrap Repetitions    :  95%|▉| 19/20 [14:14:43<43:01, 2581.63s/it, max_LL=-1/home/tomoe/anaconda3/envs/2507DenguePy/lib/python3.13/site-packages/stepmix/stepmix.py:968: ConvergenceWarning: Initializations did not converge. Try different init parameters, or increase max_iter, abs_tol, rel_tol or check for degenerate data.\n",
      "  warnings.warn(\n",
      "Bootstrap Repetitions    : 100%|█| 20/20 [14:57:52<00:00, 2693.64s/it, max_LL=-1\n"
     ]
    },
    {
     "name": "stdout",
     "output_type": "stream",
     "text": [
      "\n",
      "BLRT Sweep Results\n",
      "                      p\n",
      "Test                   \n",
      "20 vs. 21 classes  0.45\n",
      "21 vs. 22 classes  0.25\n",
      "22 vs. 23 classes  0.70\n",
      "23 vs. 24 classes  0.10\n",
      "24 vs. 25 classes  0.20\n"
     ]
    }
   ],
   "source": [
    "# Define base model\n",
    "model = StepMix(n_components=3, n_steps=1, measurement='bernoulli',\n",
    "                structural='gaussian_unit', random_state=42, verbose=0, progress_bar=0)\n",
    "\n",
    "# Run BLRT sweep from 1 class to 4 classes\n",
    "# Expect some convergence warnings\n",
    "p_values = blrt_sweep(model, df3.loc[:,varList],df3.loc[:,'HOSPITALIZ'], low=20, high=25, n_repetitions=20)"
   ]
  },
  {
   "cell_type": "code",
   "execution_count": 8,
   "id": "80cf2287-fe42-4ead-977a-ceb13d4665f6",
   "metadata": {},
   "outputs": [
    {
     "data": {
      "text/html": [
       "<div>\n",
       "<style scoped>\n",
       "    .dataframe tbody tr th:only-of-type {\n",
       "        vertical-align: middle;\n",
       "    }\n",
       "\n",
       "    .dataframe tbody tr th {\n",
       "        vertical-align: top;\n",
       "    }\n",
       "\n",
       "    .dataframe thead th {\n",
       "        text-align: right;\n",
       "    }\n",
       "</style>\n",
       "<table border=\"1\" class=\"dataframe\">\n",
       "  <thead>\n",
       "    <tr style=\"text-align: right;\">\n",
       "      <th></th>\n",
       "      <th>p</th>\n",
       "    </tr>\n",
       "    <tr>\n",
       "      <th>Test</th>\n",
       "      <th></th>\n",
       "    </tr>\n",
       "  </thead>\n",
       "  <tbody>\n",
       "    <tr>\n",
       "      <th>20 vs. 21 classes</th>\n",
       "      <td>0.45</td>\n",
       "    </tr>\n",
       "    <tr>\n",
       "      <th>21 vs. 22 classes</th>\n",
       "      <td>0.25</td>\n",
       "    </tr>\n",
       "    <tr>\n",
       "      <th>22 vs. 23 classes</th>\n",
       "      <td>0.70</td>\n",
       "    </tr>\n",
       "    <tr>\n",
       "      <th>23 vs. 24 classes</th>\n",
       "      <td>0.10</td>\n",
       "    </tr>\n",
       "    <tr>\n",
       "      <th>24 vs. 25 classes</th>\n",
       "      <td>0.20</td>\n",
       "    </tr>\n",
       "  </tbody>\n",
       "</table>\n",
       "</div>"
      ],
      "text/plain": [
       "                      p\n",
       "Test                   \n",
       "20 vs. 21 classes  0.45\n",
       "21 vs. 22 classes  0.25\n",
       "22 vs. 23 classes  0.70\n",
       "23 vs. 24 classes  0.10\n",
       "24 vs. 25 classes  0.20"
      ]
     },
     "execution_count": 8,
     "metadata": {},
     "output_type": "execute_result"
    }
   ],
   "source": [
    "p_values\n"
   ]
  },
  {
   "cell_type": "code",
   "execution_count": null,
   "id": "a13cbd25-e9fa-4726-9df7-0086dd55a577",
   "metadata": {},
   "outputs": [],
   "source": []
  }
 ],
 "metadata": {
  "kernelspec": {
   "display_name": "Python [conda env:2507DenguePy]",
   "language": "python",
   "name": "conda-env-2507DenguePy-py"
  },
  "language_info": {
   "codemirror_mode": {
    "name": "ipython",
    "version": 3
   },
   "file_extension": ".py",
   "mimetype": "text/x-python",
   "name": "python",
   "nbconvert_exporter": "python",
   "pygments_lexer": "ipython3",
   "version": "3.13.2"
  }
 },
 "nbformat": 4,
 "nbformat_minor": 5
}
